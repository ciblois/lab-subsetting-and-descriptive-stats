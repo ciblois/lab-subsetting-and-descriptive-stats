{
 "cells": [
  {
   "cell_type": "markdown",
   "metadata": {},
   "source": [
    "# Subsetting and Descriptive Stats\n",
    "\n",
    "## Before your start:\n",
    "   - Remember that you just need to do one of the challenges.\n",
    "   - Keep in mind that you need to use some of the functions you learned in the previous lessons.\n",
    "   - All datasets are provided in IronHack's database.\n",
    "   - Elaborate your codes and outputs as much as you can.\n",
    "   - Try your best to answer the questions and complete the tasks and most importantly: enjoy the process!\n",
    "   \n",
    "#### Import all the necessary libraries here:"
   ]
  },
  {
   "cell_type": "code",
   "execution_count": 126,
   "metadata": {},
   "outputs": [],
   "source": [
    "# import libraries here\n",
    "import pandas as pd\n",
    "import numpy as np"
   ]
  },
  {
   "cell_type": "markdown",
   "metadata": {},
   "source": [
    "# [ONLY ONE MANDATORY] Challenge 1\n",
    "#### In this challenge we will use the `Temp_States`  dataset. \n",
    "\n",
    "#### First import it into a dataframe called `temp`."
   ]
  },
  {
   "cell_type": "code",
   "execution_count": 76,
   "metadata": {},
   "outputs": [],
   "source": [
    "# your code here\n",
    "temp = pd.read_csv('Temp_States.csv')"
   ]
  },
  {
   "cell_type": "markdown",
   "metadata": {},
   "source": [
    "#### Print `temp`."
   ]
  },
  {
   "cell_type": "code",
   "execution_count": 77,
   "metadata": {},
   "outputs": [
    {
     "output_type": "stream",
     "name": "stdout",
     "text": [
      "         City        State  Temperature\n0         NYC     New York    19.444444\n1      Albany     New York     9.444444\n2     Buffalo     New York     3.333333\n3    Hartford  Connecticut    17.222222\n4  Bridgeport  Connecticut    14.444444\n5      Treton   New Jersey    22.222222\n6      Newark   New Jersey    20.000000\n"
     ]
    }
   ],
   "source": [
    "# your code here\n",
    "print(temp)"
   ]
  },
  {
   "cell_type": "markdown",
   "metadata": {},
   "source": [
    "#### Explore the data types of the *temp* dataframe. What types of data do we have? Comment your result."
   ]
  },
  {
   "cell_type": "code",
   "execution_count": 78,
   "metadata": {},
   "outputs": [
    {
     "output_type": "execute_result",
     "data": {
      "text/plain": [
       "City            object\n",
       "State           object\n",
       "Temperature    float64\n",
       "dtype: object"
      ]
     },
     "metadata": {},
     "execution_count": 78
    }
   ],
   "source": [
    "# your code here\n",
    "temp.dtypes"
   ]
  },
  {
   "cell_type": "code",
   "execution_count": 79,
   "metadata": {},
   "outputs": [
    {
     "output_type": "execute_result",
     "data": {
      "text/plain": [
       "'\\nyour comments here\\nTwo object types, that means 2 categorical variables and 1 numerical variable\\n'"
      ]
     },
     "metadata": {},
     "execution_count": 79
    }
   ],
   "source": [
    "\"\"\"\n",
    "your comments here\n",
    "Two object types, that means 2 categorical variables and 1 numerical variable\n",
    "\"\"\""
   ]
  },
  {
   "cell_type": "markdown",
   "metadata": {},
   "source": [
    "#### Select the rows where state is New York."
   ]
  },
  {
   "cell_type": "code",
   "execution_count": 80,
   "metadata": {},
   "outputs": [
    {
     "output_type": "execute_result",
     "data": {
      "text/plain": [
       "      City     State  Temperature\n",
       "0      NYC  New York    19.444444\n",
       "1   Albany  New York     9.444444\n",
       "2  Buffalo  New York     3.333333"
      ],
      "text/html": "<div>\n<style scoped>\n    .dataframe tbody tr th:only-of-type {\n        vertical-align: middle;\n    }\n\n    .dataframe tbody tr th {\n        vertical-align: top;\n    }\n\n    .dataframe thead th {\n        text-align: right;\n    }\n</style>\n<table border=\"1\" class=\"dataframe\">\n  <thead>\n    <tr style=\"text-align: right;\">\n      <th></th>\n      <th>City</th>\n      <th>State</th>\n      <th>Temperature</th>\n    </tr>\n  </thead>\n  <tbody>\n    <tr>\n      <th>0</th>\n      <td>NYC</td>\n      <td>New York</td>\n      <td>19.444444</td>\n    </tr>\n    <tr>\n      <th>1</th>\n      <td>Albany</td>\n      <td>New York</td>\n      <td>9.444444</td>\n    </tr>\n    <tr>\n      <th>2</th>\n      <td>Buffalo</td>\n      <td>New York</td>\n      <td>3.333333</td>\n    </tr>\n  </tbody>\n</table>\n</div>"
     },
     "metadata": {},
     "execution_count": 80
    }
   ],
   "source": [
    "# your code here\n",
    "temp[temp['State']=='New York']"
   ]
  },
  {
   "cell_type": "markdown",
   "metadata": {},
   "source": [
    "#### What is the average temperature of cities in New York?"
   ]
  },
  {
   "cell_type": "code",
   "execution_count": 81,
   "metadata": {},
   "outputs": [
    {
     "output_type": "execute_result",
     "data": {
      "text/plain": [
       "Temperature    10.740741\n",
       "dtype: float64"
      ]
     },
     "metadata": {},
     "execution_count": 81
    }
   ],
   "source": [
    "# your code here\n",
    "temp[temp['State']=='New York'].mean()"
   ]
  },
  {
   "cell_type": "markdown",
   "metadata": {},
   "source": [
    "#### Which states and cities have a temperature above 15 degrees Celsius?"
   ]
  },
  {
   "cell_type": "code",
   "execution_count": 82,
   "metadata": {},
   "outputs": [
    {
     "output_type": "execute_result",
     "data": {
      "text/plain": [
       "[('NYC', 'New York'),\n",
       " ('Hartford', 'Connecticut'),\n",
       " ('Treton', 'New Jersey'),\n",
       " ('Newark', 'New Jersey')]"
      ]
     },
     "metadata": {},
     "execution_count": 82
    }
   ],
   "source": [
    "# your code here\n",
    "temp15 = temp.loc[(temp.Temperature > 15)]\n",
    "#display(temp15.iloc[:,0 : 2])\n",
    "temp15_city = (temp15.iloc[:,0]).tolist()\n",
    "temp15_state = (temp15.iloc[:,1]).tolist()\n",
    "list(zip(temp15_city,temp15_state))"
   ]
  },
  {
   "cell_type": "markdown",
   "metadata": {},
   "source": [
    "#### Now, return only the cities that have a temperature above 15 degrees Celsius."
   ]
  },
  {
   "cell_type": "code",
   "execution_count": 83,
   "metadata": {},
   "outputs": [
    {
     "output_type": "execute_result",
     "data": {
      "text/plain": [
       "['NYC', 'Hartford', 'Treton', 'Newark']"
      ]
     },
     "metadata": {},
     "execution_count": 83
    }
   ],
   "source": [
    "# your code here\n",
    "temp15_city"
   ]
  },
  {
   "cell_type": "markdown",
   "metadata": {},
   "source": [
    "#### Which cities have a temperature above 15 degrees Celcius and below 20 degrees Celsius?\n",
    "\n",
    "**Hint**: First, write the condition. Then, select the rows."
   ]
  },
  {
   "cell_type": "code",
   "execution_count": 84,
   "metadata": {},
   "outputs": [
    {
     "output_type": "execute_result",
     "data": {
      "text/plain": [
       "['NYC', 'Hartford']"
      ]
     },
     "metadata": {},
     "execution_count": 84
    }
   ],
   "source": [
    "temp15_20 = temp.loc[(temp.Temperature > 15) & (temp.Temperature < 20)]\n",
    "#display(temp15.iloc[:,0 : 2])\n",
    "temp15_20_city = (temp15_20.iloc[:,0]).tolist()\n",
    "temp15_20_city"
   ]
  },
  {
   "cell_type": "markdown",
   "metadata": {},
   "source": [
    "#### Find the mean and standard deviation of the temperature of each state."
   ]
  },
  {
   "cell_type": "code",
   "execution_count": 85,
   "metadata": {},
   "outputs": [
    {
     "output_type": "execute_result",
     "data": {
      "text/plain": [
       "            Temperature          \n",
       "                   mean       std\n",
       "State                            \n",
       "Connecticut   15.833333  1.964186\n",
       "New Jersey    21.111111  1.571348\n",
       "New York      10.740741  8.133404"
      ],
      "text/html": "<div>\n<style scoped>\n    .dataframe tbody tr th:only-of-type {\n        vertical-align: middle;\n    }\n\n    .dataframe tbody tr th {\n        vertical-align: top;\n    }\n\n    .dataframe thead tr th {\n        text-align: left;\n    }\n\n    .dataframe thead tr:last-of-type th {\n        text-align: right;\n    }\n</style>\n<table border=\"1\" class=\"dataframe\">\n  <thead>\n    <tr>\n      <th></th>\n      <th colspan=\"2\" halign=\"left\">Temperature</th>\n    </tr>\n    <tr>\n      <th></th>\n      <th>mean</th>\n      <th>std</th>\n    </tr>\n    <tr>\n      <th>State</th>\n      <th></th>\n      <th></th>\n    </tr>\n  </thead>\n  <tbody>\n    <tr>\n      <th>Connecticut</th>\n      <td>15.833333</td>\n      <td>1.964186</td>\n    </tr>\n    <tr>\n      <th>New Jersey</th>\n      <td>21.111111</td>\n      <td>1.571348</td>\n    </tr>\n    <tr>\n      <th>New York</th>\n      <td>10.740741</td>\n      <td>8.133404</td>\n    </tr>\n  </tbody>\n</table>\n</div>"
     },
     "metadata": {},
     "execution_count": 85
    }
   ],
   "source": [
    "# your code here\n",
    "temp.groupby('State').agg({'Temperature':['mean','std']})"
   ]
  },
  {
   "cell_type": "markdown",
   "metadata": {
    "collapsed": true
   },
   "source": [
    "# [ONLY ONE MANDATORY]  Challenge 2"
   ]
  },
  {
   "cell_type": "markdown",
   "metadata": {},
   "source": [
    "#### Load the `employees` dataset into a dataframe. Call the dataframe `employees`."
   ]
  },
  {
   "cell_type": "code",
   "execution_count": 86,
   "metadata": {},
   "outputs": [],
   "source": [
    "# your code here\n",
    "employees = pd.read_csv('Employee.csv')"
   ]
  },
  {
   "cell_type": "markdown",
   "metadata": {},
   "source": [
    "#### Explore the data types of the `employees` dataframe. Comment your results."
   ]
  },
  {
   "cell_type": "code",
   "execution_count": 87,
   "metadata": {},
   "outputs": [
    {
     "output_type": "execute_result",
     "data": {
      "text/plain": [
       "Name          object\n",
       "Department    object\n",
       "Education     object\n",
       "Gender        object\n",
       "Title         object\n",
       "Years          int64\n",
       "Salary         int64\n",
       "dtype: object"
      ]
     },
     "metadata": {},
     "execution_count": 87
    }
   ],
   "source": [
    "# your code here\n",
    "employees.dtypes"
   ]
  },
  {
   "cell_type": "code",
   "execution_count": 88,
   "metadata": {},
   "outputs": [
    {
     "output_type": "execute_result",
     "data": {
      "text/plain": [
       "'\\nyour comments here\\n'"
      ]
     },
     "metadata": {},
     "execution_count": 88
    }
   ],
   "source": [
    "\"\"\"\n",
    "your comments here\n",
    "\"\"\""
   ]
  },
  {
   "cell_type": "markdown",
   "metadata": {},
   "source": [
    "#### What's the average salary in this company?"
   ]
  },
  {
   "cell_type": "code",
   "execution_count": 89,
   "metadata": {},
   "outputs": [
    {
     "output_type": "execute_result",
     "data": {
      "text/plain": [
       "48.888888888888886"
      ]
     },
     "metadata": {},
     "execution_count": 89
    }
   ],
   "source": [
    "# your code here\n",
    "employees['Salary'].mean()"
   ]
  },
  {
   "cell_type": "markdown",
   "metadata": {},
   "source": [
    "#### What's the highest salary?"
   ]
  },
  {
   "cell_type": "code",
   "execution_count": 90,
   "metadata": {},
   "outputs": [
    {
     "output_type": "execute_result",
     "data": {
      "text/plain": [
       "70"
      ]
     },
     "metadata": {},
     "execution_count": 90
    }
   ],
   "source": [
    "# your code here\n",
    "employees['Salary'].max()"
   ]
  },
  {
   "cell_type": "markdown",
   "metadata": {},
   "source": [
    "#### What's the lowest salary?"
   ]
  },
  {
   "cell_type": "code",
   "execution_count": 91,
   "metadata": {},
   "outputs": [
    {
     "output_type": "execute_result",
     "data": {
      "text/plain": [
       "30"
      ]
     },
     "metadata": {},
     "execution_count": 91
    }
   ],
   "source": [
    "# your code here\n",
    "employees['Salary'].min()"
   ]
  },
  {
   "cell_type": "markdown",
   "metadata": {},
   "source": [
    "#### Who are the employees with the lowest salary?"
   ]
  },
  {
   "cell_type": "code",
   "execution_count": 92,
   "metadata": {},
   "outputs": [
    {
     "output_type": "execute_result",
     "data": {
      "text/plain": [
       "    Name\n",
       "1  Maria\n",
       "2  David"
      ],
      "text/html": "<div>\n<style scoped>\n    .dataframe tbody tr th:only-of-type {\n        vertical-align: middle;\n    }\n\n    .dataframe tbody tr th {\n        vertical-align: top;\n    }\n\n    .dataframe thead th {\n        text-align: right;\n    }\n</style>\n<table border=\"1\" class=\"dataframe\">\n  <thead>\n    <tr style=\"text-align: right;\">\n      <th></th>\n      <th>Name</th>\n    </tr>\n  </thead>\n  <tbody>\n    <tr>\n      <th>1</th>\n      <td>Maria</td>\n    </tr>\n    <tr>\n      <th>2</th>\n      <td>David</td>\n    </tr>\n  </tbody>\n</table>\n</div>"
     },
     "metadata": {},
     "execution_count": 92
    }
   ],
   "source": [
    "# your code here\n",
    "employees.loc[employees['Salary'] == employees['Salary'].min(),['Name']]"
   ]
  },
  {
   "cell_type": "markdown",
   "metadata": {},
   "source": [
    "#### Find all the information about an employee called David."
   ]
  },
  {
   "cell_type": "code",
   "execution_count": 93,
   "metadata": {},
   "outputs": [
    {
     "output_type": "execute_result",
     "data": {
      "text/plain": [
       "    Name Department Education Gender    Title  Years  Salary\n",
       "2  David         HR    Master      M  analyst      2      30"
      ],
      "text/html": "<div>\n<style scoped>\n    .dataframe tbody tr th:only-of-type {\n        vertical-align: middle;\n    }\n\n    .dataframe tbody tr th {\n        vertical-align: top;\n    }\n\n    .dataframe thead th {\n        text-align: right;\n    }\n</style>\n<table border=\"1\" class=\"dataframe\">\n  <thead>\n    <tr style=\"text-align: right;\">\n      <th></th>\n      <th>Name</th>\n      <th>Department</th>\n      <th>Education</th>\n      <th>Gender</th>\n      <th>Title</th>\n      <th>Years</th>\n      <th>Salary</th>\n    </tr>\n  </thead>\n  <tbody>\n    <tr>\n      <th>2</th>\n      <td>David</td>\n      <td>HR</td>\n      <td>Master</td>\n      <td>M</td>\n      <td>analyst</td>\n      <td>2</td>\n      <td>30</td>\n    </tr>\n  </tbody>\n</table>\n</div>"
     },
     "metadata": {},
     "execution_count": 93
    }
   ],
   "source": [
    "# your code here\n",
    "employees.loc[employees['Name'] == 'David']"
   ]
  },
  {
   "cell_type": "markdown",
   "metadata": {},
   "source": [
    "#### Could you return only David's salary?"
   ]
  },
  {
   "cell_type": "code",
   "execution_count": 94,
   "metadata": {},
   "outputs": [
    {
     "output_type": "execute_result",
     "data": {
      "text/plain": [
       "   Salary\n",
       "2      30"
      ],
      "text/html": "<div>\n<style scoped>\n    .dataframe tbody tr th:only-of-type {\n        vertical-align: middle;\n    }\n\n    .dataframe tbody tr th {\n        vertical-align: top;\n    }\n\n    .dataframe thead th {\n        text-align: right;\n    }\n</style>\n<table border=\"1\" class=\"dataframe\">\n  <thead>\n    <tr style=\"text-align: right;\">\n      <th></th>\n      <th>Salary</th>\n    </tr>\n  </thead>\n  <tbody>\n    <tr>\n      <th>2</th>\n      <td>30</td>\n    </tr>\n  </tbody>\n</table>\n</div>"
     },
     "metadata": {},
     "execution_count": 94
    }
   ],
   "source": [
    "# your code here\n",
    "employees.loc[employees['Name'] == 'David',['Salary']]"
   ]
  },
  {
   "cell_type": "markdown",
   "metadata": {},
   "source": [
    "#### Print all the rows where job title is associate."
   ]
  },
  {
   "cell_type": "code",
   "execution_count": 95,
   "metadata": {},
   "outputs": [
    {
     "output_type": "execute_result",
     "data": {
      "text/plain": [
       "     Name Department Education Gender      Title  Years  Salary\n",
       "4  Samuel      Sales    Master      M  associate      3      55\n",
       "5     Eva      Sales  Bachelor      F  associate      2      55\n",
       "7   Pedro         IT       Phd      M  associate      7      60"
      ],
      "text/html": "<div>\n<style scoped>\n    .dataframe tbody tr th:only-of-type {\n        vertical-align: middle;\n    }\n\n    .dataframe tbody tr th {\n        vertical-align: top;\n    }\n\n    .dataframe thead th {\n        text-align: right;\n    }\n</style>\n<table border=\"1\" class=\"dataframe\">\n  <thead>\n    <tr style=\"text-align: right;\">\n      <th></th>\n      <th>Name</th>\n      <th>Department</th>\n      <th>Education</th>\n      <th>Gender</th>\n      <th>Title</th>\n      <th>Years</th>\n      <th>Salary</th>\n    </tr>\n  </thead>\n  <tbody>\n    <tr>\n      <th>4</th>\n      <td>Samuel</td>\n      <td>Sales</td>\n      <td>Master</td>\n      <td>M</td>\n      <td>associate</td>\n      <td>3</td>\n      <td>55</td>\n    </tr>\n    <tr>\n      <th>5</th>\n      <td>Eva</td>\n      <td>Sales</td>\n      <td>Bachelor</td>\n      <td>F</td>\n      <td>associate</td>\n      <td>2</td>\n      <td>55</td>\n    </tr>\n    <tr>\n      <th>7</th>\n      <td>Pedro</td>\n      <td>IT</td>\n      <td>Phd</td>\n      <td>M</td>\n      <td>associate</td>\n      <td>7</td>\n      <td>60</td>\n    </tr>\n  </tbody>\n</table>\n</div>"
     },
     "metadata": {},
     "execution_count": 95
    }
   ],
   "source": [
    "# your code here\n",
    "employees.loc[employees['Title'] == 'associate']"
   ]
  },
  {
   "cell_type": "markdown",
   "metadata": {},
   "source": [
    "#### Print the first 3 rows of your dataframe.\n",
    "**Tip**: There are 2 ways to do it. Do it both ways."
   ]
  },
  {
   "cell_type": "code",
   "execution_count": 96,
   "metadata": {},
   "outputs": [
    {
     "output_type": "execute_result",
     "data": {
      "text/plain": [
       "    Name Department Education Gender    Title  Years  Salary\n",
       "0   Jose         IT  Bachelor      M  analyst      1      35\n",
       "1  Maria         IT    Master      F  analyst      2      30\n",
       "2  David         HR    Master      M  analyst      2      30"
      ],
      "text/html": "<div>\n<style scoped>\n    .dataframe tbody tr th:only-of-type {\n        vertical-align: middle;\n    }\n\n    .dataframe tbody tr th {\n        vertical-align: top;\n    }\n\n    .dataframe thead th {\n        text-align: right;\n    }\n</style>\n<table border=\"1\" class=\"dataframe\">\n  <thead>\n    <tr style=\"text-align: right;\">\n      <th></th>\n      <th>Name</th>\n      <th>Department</th>\n      <th>Education</th>\n      <th>Gender</th>\n      <th>Title</th>\n      <th>Years</th>\n      <th>Salary</th>\n    </tr>\n  </thead>\n  <tbody>\n    <tr>\n      <th>0</th>\n      <td>Jose</td>\n      <td>IT</td>\n      <td>Bachelor</td>\n      <td>M</td>\n      <td>analyst</td>\n      <td>1</td>\n      <td>35</td>\n    </tr>\n    <tr>\n      <th>1</th>\n      <td>Maria</td>\n      <td>IT</td>\n      <td>Master</td>\n      <td>F</td>\n      <td>analyst</td>\n      <td>2</td>\n      <td>30</td>\n    </tr>\n    <tr>\n      <th>2</th>\n      <td>David</td>\n      <td>HR</td>\n      <td>Master</td>\n      <td>M</td>\n      <td>analyst</td>\n      <td>2</td>\n      <td>30</td>\n    </tr>\n  </tbody>\n</table>\n</div>"
     },
     "metadata": {},
     "execution_count": 96
    }
   ],
   "source": [
    "# Method 1\n",
    "# your code here\n",
    "employees.loc[0:2]"
   ]
  },
  {
   "cell_type": "code",
   "execution_count": 97,
   "metadata": {},
   "outputs": [
    {
     "output_type": "execute_result",
     "data": {
      "text/plain": [
       "    Name Department Education Gender    Title  Years  Salary\n",
       "0   Jose         IT  Bachelor      M  analyst      1      35\n",
       "1  Maria         IT    Master      F  analyst      2      30\n",
       "2  David         HR    Master      M  analyst      2      30"
      ],
      "text/html": "<div>\n<style scoped>\n    .dataframe tbody tr th:only-of-type {\n        vertical-align: middle;\n    }\n\n    .dataframe tbody tr th {\n        vertical-align: top;\n    }\n\n    .dataframe thead th {\n        text-align: right;\n    }\n</style>\n<table border=\"1\" class=\"dataframe\">\n  <thead>\n    <tr style=\"text-align: right;\">\n      <th></th>\n      <th>Name</th>\n      <th>Department</th>\n      <th>Education</th>\n      <th>Gender</th>\n      <th>Title</th>\n      <th>Years</th>\n      <th>Salary</th>\n    </tr>\n  </thead>\n  <tbody>\n    <tr>\n      <th>0</th>\n      <td>Jose</td>\n      <td>IT</td>\n      <td>Bachelor</td>\n      <td>M</td>\n      <td>analyst</td>\n      <td>1</td>\n      <td>35</td>\n    </tr>\n    <tr>\n      <th>1</th>\n      <td>Maria</td>\n      <td>IT</td>\n      <td>Master</td>\n      <td>F</td>\n      <td>analyst</td>\n      <td>2</td>\n      <td>30</td>\n    </tr>\n    <tr>\n      <th>2</th>\n      <td>David</td>\n      <td>HR</td>\n      <td>Master</td>\n      <td>M</td>\n      <td>analyst</td>\n      <td>2</td>\n      <td>30</td>\n    </tr>\n  </tbody>\n</table>\n</div>"
     },
     "metadata": {},
     "execution_count": 97
    }
   ],
   "source": [
    "# Method 2\n",
    "# your code here\n",
    "employees.iloc[0:3]"
   ]
  },
  {
   "cell_type": "markdown",
   "metadata": {},
   "source": [
    "#### Find the employees whose title is associate and whose salary is above 55."
   ]
  },
  {
   "cell_type": "code",
   "execution_count": 98,
   "metadata": {},
   "outputs": [
    {
     "output_type": "execute_result",
     "data": {
      "text/plain": [
       "    Name Department Education Gender      Title  Years  Salary\n",
       "7  Pedro         IT       Phd      M  associate      7      60"
      ],
      "text/html": "<div>\n<style scoped>\n    .dataframe tbody tr th:only-of-type {\n        vertical-align: middle;\n    }\n\n    .dataframe tbody tr th {\n        vertical-align: top;\n    }\n\n    .dataframe thead th {\n        text-align: right;\n    }\n</style>\n<table border=\"1\" class=\"dataframe\">\n  <thead>\n    <tr style=\"text-align: right;\">\n      <th></th>\n      <th>Name</th>\n      <th>Department</th>\n      <th>Education</th>\n      <th>Gender</th>\n      <th>Title</th>\n      <th>Years</th>\n      <th>Salary</th>\n    </tr>\n  </thead>\n  <tbody>\n    <tr>\n      <th>7</th>\n      <td>Pedro</td>\n      <td>IT</td>\n      <td>Phd</td>\n      <td>M</td>\n      <td>associate</td>\n      <td>7</td>\n      <td>60</td>\n    </tr>\n  </tbody>\n</table>\n</div>"
     },
     "metadata": {},
     "execution_count": 98
    }
   ],
   "source": [
    "# your code here\n",
    "employees.loc[(employees['Title'] == 'associate') & (employees['Salary']>55)]"
   ]
  },
  {
   "cell_type": "markdown",
   "metadata": {},
   "source": [
    "#### Group the employees by number of years of employment. What are the average salaries in each group?"
   ]
  },
  {
   "cell_type": "code",
   "execution_count": 99,
   "metadata": {},
   "outputs": [
    {
     "output_type": "execute_result",
     "data": {
      "text/plain": [
       "     Name Department Education Gender      Title  Years  Salary\n",
       "0    Jose         IT  Bachelor      M    analyst      1      35\n",
       "1   Maria         IT    Master      F    analyst      2      30\n",
       "2   David         HR    Master      M    analyst      2      30\n",
       "3   Sonia         HR  Bachelor      F    analyst      4      35\n",
       "4  Samuel      Sales    Master      M  associate      3      55"
      ],
      "text/html": "<div>\n<style scoped>\n    .dataframe tbody tr th:only-of-type {\n        vertical-align: middle;\n    }\n\n    .dataframe tbody tr th {\n        vertical-align: top;\n    }\n\n    .dataframe thead th {\n        text-align: right;\n    }\n</style>\n<table border=\"1\" class=\"dataframe\">\n  <thead>\n    <tr style=\"text-align: right;\">\n      <th></th>\n      <th>Name</th>\n      <th>Department</th>\n      <th>Education</th>\n      <th>Gender</th>\n      <th>Title</th>\n      <th>Years</th>\n      <th>Salary</th>\n    </tr>\n  </thead>\n  <tbody>\n    <tr>\n      <th>0</th>\n      <td>Jose</td>\n      <td>IT</td>\n      <td>Bachelor</td>\n      <td>M</td>\n      <td>analyst</td>\n      <td>1</td>\n      <td>35</td>\n    </tr>\n    <tr>\n      <th>1</th>\n      <td>Maria</td>\n      <td>IT</td>\n      <td>Master</td>\n      <td>F</td>\n      <td>analyst</td>\n      <td>2</td>\n      <td>30</td>\n    </tr>\n    <tr>\n      <th>2</th>\n      <td>David</td>\n      <td>HR</td>\n      <td>Master</td>\n      <td>M</td>\n      <td>analyst</td>\n      <td>2</td>\n      <td>30</td>\n    </tr>\n    <tr>\n      <th>3</th>\n      <td>Sonia</td>\n      <td>HR</td>\n      <td>Bachelor</td>\n      <td>F</td>\n      <td>analyst</td>\n      <td>4</td>\n      <td>35</td>\n    </tr>\n    <tr>\n      <th>4</th>\n      <td>Samuel</td>\n      <td>Sales</td>\n      <td>Master</td>\n      <td>M</td>\n      <td>associate</td>\n      <td>3</td>\n      <td>55</td>\n    </tr>\n  </tbody>\n</table>\n</div>"
     },
     "metadata": {},
     "execution_count": 99
    }
   ],
   "source": [
    "employees.head()"
   ]
  },
  {
   "cell_type": "code",
   "execution_count": 127,
   "metadata": {},
   "outputs": [
    {
     "output_type": "execute_result",
     "data": {
      "text/plain": [
       "          Salary\n",
       "Years           \n",
       "1      35.000000\n",
       "2      38.333333\n",
       "3      55.000000\n",
       "4      35.000000\n",
       "7      60.000000\n",
       "8      70.000000"
      ],
      "text/html": "<div>\n<style scoped>\n    .dataframe tbody tr th:only-of-type {\n        vertical-align: middle;\n    }\n\n    .dataframe tbody tr th {\n        vertical-align: top;\n    }\n\n    .dataframe thead th {\n        text-align: right;\n    }\n</style>\n<table border=\"1\" class=\"dataframe\">\n  <thead>\n    <tr style=\"text-align: right;\">\n      <th></th>\n      <th>Salary</th>\n    </tr>\n    <tr>\n      <th>Years</th>\n      <th></th>\n    </tr>\n  </thead>\n  <tbody>\n    <tr>\n      <th>1</th>\n      <td>35.000000</td>\n    </tr>\n    <tr>\n      <th>2</th>\n      <td>38.333333</td>\n    </tr>\n    <tr>\n      <th>3</th>\n      <td>55.000000</td>\n    </tr>\n    <tr>\n      <th>4</th>\n      <td>35.000000</td>\n    </tr>\n    <tr>\n      <th>7</th>\n      <td>60.000000</td>\n    </tr>\n    <tr>\n      <th>8</th>\n      <td>70.000000</td>\n    </tr>\n  </tbody>\n</table>\n</div>"
     },
     "metadata": {},
     "execution_count": 127
    }
   ],
   "source": [
    "# your code here\n",
    "employees.groupby('Years').agg({'Salary':'mean'})"
   ]
  },
  {
   "cell_type": "markdown",
   "metadata": {},
   "source": [
    "####  What is the average salary per title?"
   ]
  },
  {
   "cell_type": "code",
   "execution_count": 128,
   "metadata": {},
   "outputs": [
    {
     "output_type": "execute_result",
     "data": {
      "text/plain": [
       "              Salary\n",
       "Title               \n",
       "VP         70.000000\n",
       "analyst    32.500000\n",
       "associate  56.666667"
      ],
      "text/html": "<div>\n<style scoped>\n    .dataframe tbody tr th:only-of-type {\n        vertical-align: middle;\n    }\n\n    .dataframe tbody tr th {\n        vertical-align: top;\n    }\n\n    .dataframe thead th {\n        text-align: right;\n    }\n</style>\n<table border=\"1\" class=\"dataframe\">\n  <thead>\n    <tr style=\"text-align: right;\">\n      <th></th>\n      <th>Salary</th>\n    </tr>\n    <tr>\n      <th>Title</th>\n      <th></th>\n    </tr>\n  </thead>\n  <tbody>\n    <tr>\n      <th>VP</th>\n      <td>70.000000</td>\n    </tr>\n    <tr>\n      <th>analyst</th>\n      <td>32.500000</td>\n    </tr>\n    <tr>\n      <th>associate</th>\n      <td>56.666667</td>\n    </tr>\n  </tbody>\n</table>\n</div>"
     },
     "metadata": {},
     "execution_count": 128
    }
   ],
   "source": [
    "# your code here\n",
    "employees.groupby('Title').agg({'Salary':'mean'})"
   ]
  },
  {
   "cell_type": "markdown",
   "metadata": {},
   "source": [
    "####  Find the salary quartiles.\n"
   ]
  },
  {
   "cell_type": "code",
   "execution_count": 102,
   "metadata": {},
   "outputs": [
    {
     "output_type": "execute_result",
     "data": {
      "text/plain": [
       "count     9.000000\n",
       "mean     48.888889\n",
       "std      16.541194\n",
       "min      30.000000\n",
       "25%      35.000000\n",
       "50%      55.000000\n",
       "75%      60.000000\n",
       "max      70.000000\n",
       "Name: Salary, dtype: float64"
      ]
     },
     "metadata": {},
     "execution_count": 102
    }
   ],
   "source": [
    "# your code here\n",
    "employees['Salary'].describe()"
   ]
  },
  {
   "cell_type": "code",
   "execution_count": 103,
   "metadata": {},
   "outputs": [
    {
     "output_type": "stream",
     "name": "stdout",
     "text": [
      "35.0 55.0 60.0\n"
     ]
    }
   ],
   "source": [
    "q1 = employees['Salary'].quantile(0.25)\n",
    "q2 = employees['Salary'].quantile(0.5)\n",
    "q3 = employees['Salary'].quantile(0.75)\n",
    "print(q1,q2,q3)"
   ]
  },
  {
   "cell_type": "markdown",
   "metadata": {},
   "source": [
    "#### Is the mean salary different per gender?"
   ]
  },
  {
   "cell_type": "code",
   "execution_count": 104,
   "metadata": {},
   "outputs": [
    {
     "output_type": "execute_result",
     "data": {
      "text/plain": [
       "           Salary\n",
       "Gender           \n",
       "F       18.484228\n",
       "M       16.955825"
      ],
      "text/html": "<div>\n<style scoped>\n    .dataframe tbody tr th:only-of-type {\n        vertical-align: middle;\n    }\n\n    .dataframe tbody tr th {\n        vertical-align: top;\n    }\n\n    .dataframe thead th {\n        text-align: right;\n    }\n</style>\n<table border=\"1\" class=\"dataframe\">\n  <thead>\n    <tr style=\"text-align: right;\">\n      <th></th>\n      <th>Salary</th>\n    </tr>\n    <tr>\n      <th>Gender</th>\n      <th></th>\n    </tr>\n  </thead>\n  <tbody>\n    <tr>\n      <th>F</th>\n      <td>18.484228</td>\n    </tr>\n    <tr>\n      <th>M</th>\n      <td>16.955825</td>\n    </tr>\n  </tbody>\n</table>\n</div>"
     },
     "metadata": {},
     "execution_count": 104
    }
   ],
   "source": [
    "\"\"\"The standart deviation is a quantity expressing by how much the members of a group differ from the mean value for the group.\"\"\"\n",
    "#mean_all = employees['Salary'].mean()\n",
    "#print('the average salary is', mean_all)\n",
    "#employees.groupby('Gender').agg({'Salary':['mean','std','var']})\n",
    "\n",
    "employees.groupby('Gender').agg({'Salary':'std'}) # the std is very similar, so we can suppose that are no difference in salary by gender"
   ]
  },
  {
   "cell_type": "markdown",
   "metadata": {},
   "source": [
    "#### Find the minimum, mean and maximum of all numeric columns for each company department.\n",
    "\n"
   ]
  },
  {
   "cell_type": "code",
   "execution_count": 105,
   "metadata": {},
   "outputs": [
    {
     "output_type": "execute_result",
     "data": {
      "text/plain": [
       "          Years     Salary\n",
       "count  9.000000   9.000000\n",
       "mean   4.111111  48.888889\n",
       "std    2.803767  16.541194\n",
       "min    1.000000  30.000000\n",
       "25%    2.000000  35.000000\n",
       "50%    3.000000  55.000000\n",
       "75%    7.000000  60.000000\n",
       "max    8.000000  70.000000"
      ],
      "text/html": "<div>\n<style scoped>\n    .dataframe tbody tr th:only-of-type {\n        vertical-align: middle;\n    }\n\n    .dataframe tbody tr th {\n        vertical-align: top;\n    }\n\n    .dataframe thead th {\n        text-align: right;\n    }\n</style>\n<table border=\"1\" class=\"dataframe\">\n  <thead>\n    <tr style=\"text-align: right;\">\n      <th></th>\n      <th>Years</th>\n      <th>Salary</th>\n    </tr>\n  </thead>\n  <tbody>\n    <tr>\n      <th>count</th>\n      <td>9.000000</td>\n      <td>9.000000</td>\n    </tr>\n    <tr>\n      <th>mean</th>\n      <td>4.111111</td>\n      <td>48.888889</td>\n    </tr>\n    <tr>\n      <th>std</th>\n      <td>2.803767</td>\n      <td>16.541194</td>\n    </tr>\n    <tr>\n      <th>min</th>\n      <td>1.000000</td>\n      <td>30.000000</td>\n    </tr>\n    <tr>\n      <th>25%</th>\n      <td>2.000000</td>\n      <td>35.000000</td>\n    </tr>\n    <tr>\n      <th>50%</th>\n      <td>3.000000</td>\n      <td>55.000000</td>\n    </tr>\n    <tr>\n      <th>75%</th>\n      <td>7.000000</td>\n      <td>60.000000</td>\n    </tr>\n    <tr>\n      <th>max</th>\n      <td>8.000000</td>\n      <td>70.000000</td>\n    </tr>\n  </tbody>\n</table>\n</div>"
     },
     "metadata": {},
     "execution_count": 105
    }
   ],
   "source": [
    "# your code here\n",
    "numerics = ['int16', 'int32', 'int64', 'float16', 'float32', 'float64']\n",
    "numeric_employees = employees.select_dtypes(include=numerics)\n",
    "numeric_employees.describe()"
   ]
  },
  {
   "cell_type": "markdown",
   "metadata": {},
   "source": [
    "#### Bonus Question:  for each department, compute the difference between the maximum and the minimum salary.\n",
    "**Hint**: try using `agg` or `apply` combined with `lambda` functions."
   ]
  },
  {
   "cell_type": "markdown",
   "metadata": {
    "collapsed": true
   },
   "source": [
    "# [ONLY ONE MANDATORY] Challenge 3\n",
    "#### Open the `Orders` dataset. Name your dataset `orders`."
   ]
  },
  {
   "cell_type": "code",
   "execution_count": 140,
   "metadata": {},
   "outputs": [
    {
     "output_type": "execute_result",
     "data": {
      "text/plain": [
       "   Unnamed: 0  InvoiceNo StockCode  year  month  day  hour  \\\n",
       "0           0     536365    85123A  2010     12    3     8   \n",
       "1           1     536365     71053  2010     12    3     8   \n",
       "2           2     536365    84406B  2010     12    3     8   \n",
       "3           3     536365    84029G  2010     12    3     8   \n",
       "4           4     536365    84029E  2010     12    3     8   \n",
       "\n",
       "                           Description  Quantity          InvoiceDate  \\\n",
       "0   white hanging heart t-light holder         6  2010-12-01 08:26:00   \n",
       "1                  white metal lantern         6  2010-12-01 08:26:00   \n",
       "2       cream cupid hearts coat hanger         8  2010-12-01 08:26:00   \n",
       "3  knitted union flag hot water bottle         6  2010-12-01 08:26:00   \n",
       "4       red woolly hottie white heart.         6  2010-12-01 08:26:00   \n",
       "\n",
       "   UnitPrice  CustomerID         Country  amount_spent  \n",
       "0       2.55       17850  United Kingdom         15.30  \n",
       "1       3.39       17850  United Kingdom         20.34  \n",
       "2       2.75       17850  United Kingdom         22.00  \n",
       "3       3.39       17850  United Kingdom         20.34  \n",
       "4       3.39       17850  United Kingdom         20.34  "
      ],
      "text/html": "<div>\n<style scoped>\n    .dataframe tbody tr th:only-of-type {\n        vertical-align: middle;\n    }\n\n    .dataframe tbody tr th {\n        vertical-align: top;\n    }\n\n    .dataframe thead th {\n        text-align: right;\n    }\n</style>\n<table border=\"1\" class=\"dataframe\">\n  <thead>\n    <tr style=\"text-align: right;\">\n      <th></th>\n      <th>Unnamed: 0</th>\n      <th>InvoiceNo</th>\n      <th>StockCode</th>\n      <th>year</th>\n      <th>month</th>\n      <th>day</th>\n      <th>hour</th>\n      <th>Description</th>\n      <th>Quantity</th>\n      <th>InvoiceDate</th>\n      <th>UnitPrice</th>\n      <th>CustomerID</th>\n      <th>Country</th>\n      <th>amount_spent</th>\n    </tr>\n  </thead>\n  <tbody>\n    <tr>\n      <th>0</th>\n      <td>0</td>\n      <td>536365</td>\n      <td>85123A</td>\n      <td>2010</td>\n      <td>12</td>\n      <td>3</td>\n      <td>8</td>\n      <td>white hanging heart t-light holder</td>\n      <td>6</td>\n      <td>2010-12-01 08:26:00</td>\n      <td>2.55</td>\n      <td>17850</td>\n      <td>United Kingdom</td>\n      <td>15.30</td>\n    </tr>\n    <tr>\n      <th>1</th>\n      <td>1</td>\n      <td>536365</td>\n      <td>71053</td>\n      <td>2010</td>\n      <td>12</td>\n      <td>3</td>\n      <td>8</td>\n      <td>white metal lantern</td>\n      <td>6</td>\n      <td>2010-12-01 08:26:00</td>\n      <td>3.39</td>\n      <td>17850</td>\n      <td>United Kingdom</td>\n      <td>20.34</td>\n    </tr>\n    <tr>\n      <th>2</th>\n      <td>2</td>\n      <td>536365</td>\n      <td>84406B</td>\n      <td>2010</td>\n      <td>12</td>\n      <td>3</td>\n      <td>8</td>\n      <td>cream cupid hearts coat hanger</td>\n      <td>8</td>\n      <td>2010-12-01 08:26:00</td>\n      <td>2.75</td>\n      <td>17850</td>\n      <td>United Kingdom</td>\n      <td>22.00</td>\n    </tr>\n    <tr>\n      <th>3</th>\n      <td>3</td>\n      <td>536365</td>\n      <td>84029G</td>\n      <td>2010</td>\n      <td>12</td>\n      <td>3</td>\n      <td>8</td>\n      <td>knitted union flag hot water bottle</td>\n      <td>6</td>\n      <td>2010-12-01 08:26:00</td>\n      <td>3.39</td>\n      <td>17850</td>\n      <td>United Kingdom</td>\n      <td>20.34</td>\n    </tr>\n    <tr>\n      <th>4</th>\n      <td>4</td>\n      <td>536365</td>\n      <td>84029E</td>\n      <td>2010</td>\n      <td>12</td>\n      <td>3</td>\n      <td>8</td>\n      <td>red woolly hottie white heart.</td>\n      <td>6</td>\n      <td>2010-12-01 08:26:00</td>\n      <td>3.39</td>\n      <td>17850</td>\n      <td>United Kingdom</td>\n      <td>20.34</td>\n    </tr>\n  </tbody>\n</table>\n</div>"
     },
     "metadata": {},
     "execution_count": 140
    }
   ],
   "source": [
    "# your code here\n",
    "orders = pd.read_csv('Orders.zip', compression='zip')\n",
    "orders.head()"
   ]
  },
  {
   "cell_type": "markdown",
   "metadata": {},
   "source": [
    "#### Explore your dataset by looking at the data types and summary statistics. Comment your results."
   ]
  },
  {
   "cell_type": "code",
   "execution_count": 115,
   "metadata": {},
   "outputs": [
    {
     "output_type": "execute_result",
     "data": {
      "text/plain": [
       "Unnamed: 0        int64\n",
       "InvoiceNo         int64\n",
       "StockCode        object\n",
       "year              int64\n",
       "month             int64\n",
       "day               int64\n",
       "hour              int64\n",
       "Description      object\n",
       "Quantity          int64\n",
       "InvoiceDate      object\n",
       "UnitPrice       float64\n",
       "CustomerID        int64\n",
       "Country          object\n",
       "amount_spent    float64\n",
       "dtype: object"
      ]
     },
     "metadata": {},
     "execution_count": 115
    }
   ],
   "source": [
    "# your code here\n",
    "orders.dtypes"
   ]
  },
  {
   "cell_type": "code",
   "execution_count": 130,
   "metadata": {},
   "outputs": [
    {
     "output_type": "execute_result",
     "data": {
      "text/plain": [
       "          Unnamed: 0      InvoiceNo           year          month  \\\n",
       "count  397924.000000  397924.000000  397924.000000  397924.000000   \n",
       "mean   278465.221859  560617.126645    2010.934259       7.612537   \n",
       "std    152771.368303   13106.167695       0.247829       3.416527   \n",
       "min         0.000000  536365.000000    2010.000000       1.000000   \n",
       "25%    148333.750000  549234.000000    2011.000000       5.000000   \n",
       "50%    284907.500000  561893.000000    2011.000000       8.000000   \n",
       "75%    410079.250000  572090.000000    2011.000000      11.000000   \n",
       "max    541908.000000  581587.000000    2011.000000      12.000000   \n",
       "\n",
       "                 day           hour       Quantity      UnitPrice  \\\n",
       "count  397924.000000  397924.000000  397924.000000  397924.000000   \n",
       "mean        3.614555      12.728247      13.021823       3.116174   \n",
       "std         1.928274       2.273535     180.420210      22.096788   \n",
       "min         1.000000       6.000000       1.000000       0.000000   \n",
       "25%         2.000000      11.000000       2.000000       1.250000   \n",
       "50%         3.000000      13.000000       6.000000       1.950000   \n",
       "75%         5.000000      14.000000      12.000000       3.750000   \n",
       "max         7.000000      20.000000   80995.000000    8142.750000   \n",
       "\n",
       "          CustomerID   amount_spent  \n",
       "count  397924.000000  397924.000000  \n",
       "mean    15294.315171      22.394749  \n",
       "std      1713.169877     309.055588  \n",
       "min     12346.000000       0.000000  \n",
       "25%     13969.000000       4.680000  \n",
       "50%     15159.000000      11.800000  \n",
       "75%     16795.000000      19.800000  \n",
       "max     18287.000000  168469.600000  "
      ],
      "text/html": "<div>\n<style scoped>\n    .dataframe tbody tr th:only-of-type {\n        vertical-align: middle;\n    }\n\n    .dataframe tbody tr th {\n        vertical-align: top;\n    }\n\n    .dataframe thead th {\n        text-align: right;\n    }\n</style>\n<table border=\"1\" class=\"dataframe\">\n  <thead>\n    <tr style=\"text-align: right;\">\n      <th></th>\n      <th>Unnamed: 0</th>\n      <th>InvoiceNo</th>\n      <th>year</th>\n      <th>month</th>\n      <th>day</th>\n      <th>hour</th>\n      <th>Quantity</th>\n      <th>UnitPrice</th>\n      <th>CustomerID</th>\n      <th>amount_spent</th>\n    </tr>\n  </thead>\n  <tbody>\n    <tr>\n      <th>count</th>\n      <td>397924.000000</td>\n      <td>397924.000000</td>\n      <td>397924.000000</td>\n      <td>397924.000000</td>\n      <td>397924.000000</td>\n      <td>397924.000000</td>\n      <td>397924.000000</td>\n      <td>397924.000000</td>\n      <td>397924.000000</td>\n      <td>397924.000000</td>\n    </tr>\n    <tr>\n      <th>mean</th>\n      <td>278465.221859</td>\n      <td>560617.126645</td>\n      <td>2010.934259</td>\n      <td>7.612537</td>\n      <td>3.614555</td>\n      <td>12.728247</td>\n      <td>13.021823</td>\n      <td>3.116174</td>\n      <td>15294.315171</td>\n      <td>22.394749</td>\n    </tr>\n    <tr>\n      <th>std</th>\n      <td>152771.368303</td>\n      <td>13106.167695</td>\n      <td>0.247829</td>\n      <td>3.416527</td>\n      <td>1.928274</td>\n      <td>2.273535</td>\n      <td>180.420210</td>\n      <td>22.096788</td>\n      <td>1713.169877</td>\n      <td>309.055588</td>\n    </tr>\n    <tr>\n      <th>min</th>\n      <td>0.000000</td>\n      <td>536365.000000</td>\n      <td>2010.000000</td>\n      <td>1.000000</td>\n      <td>1.000000</td>\n      <td>6.000000</td>\n      <td>1.000000</td>\n      <td>0.000000</td>\n      <td>12346.000000</td>\n      <td>0.000000</td>\n    </tr>\n    <tr>\n      <th>25%</th>\n      <td>148333.750000</td>\n      <td>549234.000000</td>\n      <td>2011.000000</td>\n      <td>5.000000</td>\n      <td>2.000000</td>\n      <td>11.000000</td>\n      <td>2.000000</td>\n      <td>1.250000</td>\n      <td>13969.000000</td>\n      <td>4.680000</td>\n    </tr>\n    <tr>\n      <th>50%</th>\n      <td>284907.500000</td>\n      <td>561893.000000</td>\n      <td>2011.000000</td>\n      <td>8.000000</td>\n      <td>3.000000</td>\n      <td>13.000000</td>\n      <td>6.000000</td>\n      <td>1.950000</td>\n      <td>15159.000000</td>\n      <td>11.800000</td>\n    </tr>\n    <tr>\n      <th>75%</th>\n      <td>410079.250000</td>\n      <td>572090.000000</td>\n      <td>2011.000000</td>\n      <td>11.000000</td>\n      <td>5.000000</td>\n      <td>14.000000</td>\n      <td>12.000000</td>\n      <td>3.750000</td>\n      <td>16795.000000</td>\n      <td>19.800000</td>\n    </tr>\n    <tr>\n      <th>max</th>\n      <td>541908.000000</td>\n      <td>581587.000000</td>\n      <td>2011.000000</td>\n      <td>12.000000</td>\n      <td>7.000000</td>\n      <td>20.000000</td>\n      <td>80995.000000</td>\n      <td>8142.750000</td>\n      <td>18287.000000</td>\n      <td>168469.600000</td>\n    </tr>\n  </tbody>\n</table>\n</div>"
     },
     "metadata": {},
     "execution_count": 130
    }
   ],
   "source": [
    "orders.describe()"
   ]
  },
  {
   "cell_type": "code",
   "execution_count": null,
   "metadata": {},
   "outputs": [],
   "source": [
    "\"\"\"\n",
    "your comments here\n",
    "\"\"\""
   ]
  },
  {
   "cell_type": "markdown",
   "metadata": {},
   "source": [
    "####  What is the average purchase price?"
   ]
  },
  {
   "cell_type": "code",
   "execution_count": 131,
   "metadata": {},
   "outputs": [
    {
     "output_type": "execute_result",
     "data": {
      "text/plain": [
       "3.116174480549152"
      ]
     },
     "metadata": {},
     "execution_count": 131
    }
   ],
   "source": [
    "# your code here\n",
    "orders['UnitPrice'].mean()"
   ]
  },
  {
   "cell_type": "markdown",
   "metadata": {},
   "source": [
    "#### What are the highest and lowest purchase prices? "
   ]
  },
  {
   "cell_type": "code",
   "execution_count": 122,
   "metadata": {},
   "outputs": [
    {
     "output_type": "stream",
     "name": "stdout",
     "text": [
      "highest 8142.75 \nlowest 0.0\n"
     ]
    }
   ],
   "source": [
    "# your code here\n",
    "highest = orders['UnitPrice'].max()\n",
    "lowest = orders['UnitPrice'].min()\n",
    "print('highest',highest,'\\nlowest',lowest)"
   ]
  },
  {
   "cell_type": "markdown",
   "metadata": {},
   "source": [
    "#### Select all the customers from Spain.\n",
    "**Hint**: Remember that you are not asked to find orders from Spain but customers. A customer might have more than one order associated. "
   ]
  },
  {
   "cell_type": "code",
   "execution_count": 123,
   "metadata": {},
   "outputs": [
    {
     "output_type": "execute_result",
     "data": {
      "text/plain": [
       "Index(['Unnamed: 0', 'InvoiceNo', 'StockCode', 'year', 'month', 'day', 'hour',\n",
       "       'Description', 'Quantity', 'InvoiceDate', 'UnitPrice', 'CustomerID',\n",
       "       'Country', 'amount_spent'],\n",
       "      dtype='object')"
      ]
     },
     "metadata": {},
     "execution_count": 123
    }
   ],
   "source": [
    "# your code here\n",
    "orders.columns"
   ]
  },
  {
   "cell_type": "markdown",
   "metadata": {},
   "source": [
    "#### How many customers do we have in Spain?"
   ]
  },
  {
   "cell_type": "code",
   "execution_count": 161,
   "metadata": {},
   "outputs": [
    {
     "output_type": "execute_result",
     "data": {
      "text/plain": [
       "CustomerID    2485\n",
       "dtype: int64"
      ]
     },
     "metadata": {},
     "execution_count": 161
    }
   ],
   "source": [
    "# your code here\n",
    "#orders[orders['Country']=='Spain'].agg({'CustomerID':'count'})\n",
    "orders.groupby(['Country']).agg({'CustomerID':'count'}).loc['Spain'] #another way to do it"
   ]
  },
  {
   "cell_type": "markdown",
   "metadata": {},
   "source": [
    "#### Select all the customers who have bought more than 50 items.\n",
    "**Hint**: Remember that you are not asked to find orders with more than 50 items but customers who bought more than 50 items. A customer with two orders of 30 items each should appear in the selection."
   ]
  },
  {
   "cell_type": "code",
   "execution_count": 187,
   "metadata": {},
   "outputs": [
    {
     "output_type": "execute_result",
     "data": {
      "text/plain": [
       "            Quantity\n",
       "CustomerID          \n",
       "12346          74215\n",
       "12347           2458\n",
       "12348           2341\n",
       "12349            631\n",
       "12350            197\n",
       "...              ...\n",
       "18278             66\n",
       "18281             54\n",
       "18282            103\n",
       "18283           1397\n",
       "18287           1586\n",
       "\n",
       "[4091 rows x 1 columns]"
      ],
      "text/html": "<div>\n<style scoped>\n    .dataframe tbody tr th:only-of-type {\n        vertical-align: middle;\n    }\n\n    .dataframe tbody tr th {\n        vertical-align: top;\n    }\n\n    .dataframe thead th {\n        text-align: right;\n    }\n</style>\n<table border=\"1\" class=\"dataframe\">\n  <thead>\n    <tr style=\"text-align: right;\">\n      <th></th>\n      <th>Quantity</th>\n    </tr>\n    <tr>\n      <th>CustomerID</th>\n      <th></th>\n    </tr>\n  </thead>\n  <tbody>\n    <tr>\n      <th>12346</th>\n      <td>74215</td>\n    </tr>\n    <tr>\n      <th>12347</th>\n      <td>2458</td>\n    </tr>\n    <tr>\n      <th>12348</th>\n      <td>2341</td>\n    </tr>\n    <tr>\n      <th>12349</th>\n      <td>631</td>\n    </tr>\n    <tr>\n      <th>12350</th>\n      <td>197</td>\n    </tr>\n    <tr>\n      <th>...</th>\n      <td>...</td>\n    </tr>\n    <tr>\n      <th>18278</th>\n      <td>66</td>\n    </tr>\n    <tr>\n      <th>18281</th>\n      <td>54</td>\n    </tr>\n    <tr>\n      <th>18282</th>\n      <td>103</td>\n    </tr>\n    <tr>\n      <th>18283</th>\n      <td>1397</td>\n    </tr>\n    <tr>\n      <th>18287</th>\n      <td>1586</td>\n    </tr>\n  </tbody>\n</table>\n<p>4091 rows × 1 columns</p>\n</div>"
     },
     "metadata": {},
     "execution_count": 187
    }
   ],
   "source": [
    "# your code here\n",
    "orders_50 = orders.groupby('CustomerID').agg({'Quantity':'sum'})\n",
    "orders_50[orders_50['Quantity']>50]\n",
    "#orders_50[orders_50['Quantity']>50].reset_index().iloc[:,0].tolist() #list is too long"
   ]
  },
  {
   "cell_type": "markdown",
   "metadata": {},
   "source": [
    "#### Select orders from Spain that include more than 50 items."
   ]
  },
  {
   "cell_type": "code",
   "execution_count": 191,
   "metadata": {},
   "outputs": [
    {
     "output_type": "execute_result",
     "data": {
      "text/plain": [
       "            Quantity\n",
       "CustomerID          \n",
       "12354            530\n",
       "12417            267\n",
       "12421            484\n",
       "12442            182\n",
       "12445             62\n",
       "12448            243\n",
       "12450            128\n",
       "12454           1006\n",
       "12455            566\n",
       "12462            536\n",
       "12484           2191\n",
       "12502            820\n",
       "12507            905\n",
       "12510            353\n",
       "12538            191\n",
       "12539           2067\n",
       "12540           6685\n",
       "12541            680\n",
       "12544            136\n",
       "12545            523\n",
       "12546            633\n",
       "12547            134\n",
       "12550            569\n",
       "12551            100\n",
       "12556            358\n",
       "12557           4384\n",
       "12596            474\n",
       "12597           2236\n",
       "17097            459"
      ],
      "text/html": "<div>\n<style scoped>\n    .dataframe tbody tr th:only-of-type {\n        vertical-align: middle;\n    }\n\n    .dataframe tbody tr th {\n        vertical-align: top;\n    }\n\n    .dataframe thead th {\n        text-align: right;\n    }\n</style>\n<table border=\"1\" class=\"dataframe\">\n  <thead>\n    <tr style=\"text-align: right;\">\n      <th></th>\n      <th>Quantity</th>\n    </tr>\n    <tr>\n      <th>CustomerID</th>\n      <th></th>\n    </tr>\n  </thead>\n  <tbody>\n    <tr>\n      <th>12354</th>\n      <td>530</td>\n    </tr>\n    <tr>\n      <th>12417</th>\n      <td>267</td>\n    </tr>\n    <tr>\n      <th>12421</th>\n      <td>484</td>\n    </tr>\n    <tr>\n      <th>12442</th>\n      <td>182</td>\n    </tr>\n    <tr>\n      <th>12445</th>\n      <td>62</td>\n    </tr>\n    <tr>\n      <th>12448</th>\n      <td>243</td>\n    </tr>\n    <tr>\n      <th>12450</th>\n      <td>128</td>\n    </tr>\n    <tr>\n      <th>12454</th>\n      <td>1006</td>\n    </tr>\n    <tr>\n      <th>12455</th>\n      <td>566</td>\n    </tr>\n    <tr>\n      <th>12462</th>\n      <td>536</td>\n    </tr>\n    <tr>\n      <th>12484</th>\n      <td>2191</td>\n    </tr>\n    <tr>\n      <th>12502</th>\n      <td>820</td>\n    </tr>\n    <tr>\n      <th>12507</th>\n      <td>905</td>\n    </tr>\n    <tr>\n      <th>12510</th>\n      <td>353</td>\n    </tr>\n    <tr>\n      <th>12538</th>\n      <td>191</td>\n    </tr>\n    <tr>\n      <th>12539</th>\n      <td>2067</td>\n    </tr>\n    <tr>\n      <th>12540</th>\n      <td>6685</td>\n    </tr>\n    <tr>\n      <th>12541</th>\n      <td>680</td>\n    </tr>\n    <tr>\n      <th>12544</th>\n      <td>136</td>\n    </tr>\n    <tr>\n      <th>12545</th>\n      <td>523</td>\n    </tr>\n    <tr>\n      <th>12546</th>\n      <td>633</td>\n    </tr>\n    <tr>\n      <th>12547</th>\n      <td>134</td>\n    </tr>\n    <tr>\n      <th>12550</th>\n      <td>569</td>\n    </tr>\n    <tr>\n      <th>12551</th>\n      <td>100</td>\n    </tr>\n    <tr>\n      <th>12556</th>\n      <td>358</td>\n    </tr>\n    <tr>\n      <th>12557</th>\n      <td>4384</td>\n    </tr>\n    <tr>\n      <th>12596</th>\n      <td>474</td>\n    </tr>\n    <tr>\n      <th>12597</th>\n      <td>2236</td>\n    </tr>\n    <tr>\n      <th>17097</th>\n      <td>459</td>\n    </tr>\n  </tbody>\n</table>\n</div>"
     },
     "metadata": {},
     "execution_count": 191
    }
   ],
   "source": [
    "# your code here\n",
    "orders_50_Spain = orders.groupby(['Country','CustomerID']).agg({'Quantity':'sum'})\n",
    "orders_50_Spain[(orders_50_Spain['Quantity']>50)].loc['Spain']"
   ]
  },
  {
   "cell_type": "markdown",
   "metadata": {},
   "source": [
    "#### Select all free orders."
   ]
  },
  {
   "cell_type": "code",
   "execution_count": 193,
   "metadata": {},
   "outputs": [
    {
     "output_type": "execute_result",
     "data": {
      "text/plain": [
       "        Unnamed: 0  InvoiceNo StockCode  year  month  day  hour  \\\n",
       "6914          9302     537197     22841  2010     12    7    14   \n",
       "22539        33576     539263     22580  2010     12    4    14   \n",
       "25379        40089     539722     22423  2010     12    2    13   \n",
       "29080        47068     540372     22090  2011      1    4    16   \n",
       "29082        47070     540372     22553  2011      1    4    16   \n",
       "34494        56674     541109     22168  2011      1    4    15   \n",
       "53788        86789     543599    84535B  2011      2    4    13   \n",
       "85671       130188     547417     22062  2011      3    3    10   \n",
       "92875       139453     548318     22055  2011      3    3    12   \n",
       "97430       145208     548871     22162  2011      4    1    14   \n",
       "107192      157042     550188     22636  2011      4    4    18   \n",
       "128641      187613     553000     47566  2011      5    4    15   \n",
       "137127      198383     554037     22619  2011      5    5    14   \n",
       "194648      279324     561284     22167  2011      7    2    12   \n",
       "197173      282912     561669     22960  2011      7    4    17   \n",
       "199711      285657     561916         M  2011      8    1    11   \n",
       "208950      298054     562973     23157  2011      8    4    11   \n",
       "223931      314745     564651     23270  2011      8    5    14   \n",
       "223932      314746     564651     23268  2011      8    5    14   \n",
       "223933      314747     564651     22955  2011      8    5    14   \n",
       "223934      314748     564651     21786  2011      8    5    14   \n",
       "256263      358655     568158      PADS  2011      9    7    12   \n",
       "259399      361825     568384         M  2011      9    2     9   \n",
       "273926      379913     569716     22778  2011     10    4     8   \n",
       "286507      395529     571035         M  2011     10    4    12   \n",
       "307092      420404     572893     21208  2011     10    3    14   \n",
       "319882      436428     574138     23234  2011     11    4    11   \n",
       "320049      436597     574175     22065  2011     11    4    11   \n",
       "320407      436961     574252         M  2011     11    4    13   \n",
       "322279      439361     574469     22385  2011     11    5    11   \n",
       "328385      446125     574879     22625  2011     11    1    13   \n",
       "329006      446793     574920     22899  2011     11    1    16   \n",
       "329007      446794     574920     23480  2011     11    1    16   \n",
       "334242      454463     575579     22437  2011     11    4    11   \n",
       "334243      454464     575579     22089  2011     11    4    11   \n",
       "352746      479079     577129     22464  2011     11    4    19   \n",
       "353097      479546     577168         M  2011     11    5    10   \n",
       "354170      480649     577314     23407  2011     11    5    13   \n",
       "358629      485985     577696         M  2011     11    1    11   \n",
       "370473      502122     578841     84826  2011     11    5    15   \n",
       "\n",
       "                                Description  Quantity          InvoiceDate  \\\n",
       "6914           round cake tin vintage green         1  2010-12-05 14:02:00   \n",
       "22539          advent calendar gingham sack         4  2010-12-16 14:36:00   \n",
       "25379              regency cakestand 3 tier        10  2010-12-21 13:45:00   \n",
       "29080               paper bunting retrospot        24  2011-01-06 16:41:00   \n",
       "29082                plasters in tin skulls        24  2011-01-06 16:41:00   \n",
       "34494         organiser wood antique white          1  2011-01-13 15:10:00   \n",
       "53788          fairy cakes notebook a6 size        16  2011-02-10 13:08:00   \n",
       "85671   ceramic bowl with love heart design        36  2011-03-23 10:25:00   \n",
       "92875    mini cake stand  hanging strawbery         5  2011-03-30 12:45:00   \n",
       "97430           heart garland rustic padded         2  2011-04-04 14:42:00   \n",
       "107192   childs breakfast set circus parade         1  2011-04-14 18:57:00   \n",
       "128641                        party bunting         4  2011-05-12 15:21:00   \n",
       "137127            set of 6 soldier skittles        80  2011-05-20 14:13:00   \n",
       "194648           oval wall mirror diamante          1  2011-07-26 12:24:00   \n",
       "197173             jam making set with jars        11  2011-07-28 17:09:00   \n",
       "199711                               manual         1  2011-08-01 11:44:00   \n",
       "208950           set of 6 nativity magnets        240  2011-08-11 11:42:00   \n",
       "223931     set of 2 ceramic painted hearts         96  2011-08-26 14:19:00   \n",
       "223932  set of 2 ceramic christmas reindeer       192  2011-08-26 14:19:00   \n",
       "223933             36 foil star cake cases        144  2011-08-26 14:19:00   \n",
       "223934                   polkadot rain hat        144  2011-08-26 14:19:00   \n",
       "256263           pads to match all cushions         1  2011-09-25 12:22:00   \n",
       "259399                               manual         1  2011-09-27 09:46:00   \n",
       "273926                   glass cloche small         2  2011-10-06 08:17:00   \n",
       "286507                               manual         1  2011-10-13 12:50:00   \n",
       "307092          pastel colour honeycomb fan         5  2011-10-26 14:36:00   \n",
       "319882        biscuit tin vintage christmas       216  2011-11-03 11:26:00   \n",
       "320049       christmas pudding trinket pot         12  2011-11-03 11:47:00   \n",
       "320407                               manual         1  2011-11-03 13:24:00   \n",
       "322279            jumbo bag spaceboy design        12  2011-11-04 11:55:00   \n",
       "328385                   red kitchen scales         2  2011-11-07 13:22:00   \n",
       "329006         children's apron dolly girl          1  2011-11-07 16:34:00   \n",
       "329007       mini lights woodland mushrooms         1  2011-11-07 16:34:00   \n",
       "334242        set of 9 black skull balloons        20  2011-11-10 11:49:00   \n",
       "334243        paper bunting vintage paisley        24  2011-11-10 11:49:00   \n",
       "352746          hanging metal heart lantern         4  2011-11-17 19:52:00   \n",
       "353097                               manual         1  2011-11-18 10:42:00   \n",
       "354170       set of 2 trays home sweet home         2  2011-11-18 13:23:00   \n",
       "358629                               manual         1  2011-11-21 11:57:00   \n",
       "370473       asstd design 3d paper stickers     12540  2011-11-25 15:57:00   \n",
       "\n",
       "        UnitPrice  CustomerID         Country  amount_spent  \n",
       "6914          0.0       12647         Germany           0.0  \n",
       "22539         0.0       16560  United Kingdom           0.0  \n",
       "25379         0.0       14911            EIRE           0.0  \n",
       "29080         0.0       13081  United Kingdom           0.0  \n",
       "29082         0.0       13081  United Kingdom           0.0  \n",
       "34494         0.0       15107  United Kingdom           0.0  \n",
       "53788         0.0       17560  United Kingdom           0.0  \n",
       "85671         0.0       13239  United Kingdom           0.0  \n",
       "92875         0.0       13113  United Kingdom           0.0  \n",
       "97430         0.0       14410  United Kingdom           0.0  \n",
       "107192        0.0       12457     Switzerland           0.0  \n",
       "128641        0.0       17667  United Kingdom           0.0  \n",
       "137127        0.0       12415       Australia           0.0  \n",
       "194648        0.0       16818  United Kingdom           0.0  \n",
       "197173        0.0       12507           Spain           0.0  \n",
       "199711        0.0       15581  United Kingdom           0.0  \n",
       "208950        0.0       14911            EIRE           0.0  \n",
       "223931        0.0       14646     Netherlands           0.0  \n",
       "223932        0.0       14646     Netherlands           0.0  \n",
       "223933        0.0       14646     Netherlands           0.0  \n",
       "223934        0.0       14646     Netherlands           0.0  \n",
       "256263        0.0       16133  United Kingdom           0.0  \n",
       "259399        0.0       12748  United Kingdom           0.0  \n",
       "273926        0.0       15804  United Kingdom           0.0  \n",
       "286507        0.0       12446             RSA           0.0  \n",
       "307092        0.0       18059  United Kingdom           0.0  \n",
       "319882        0.0       12415       Australia           0.0  \n",
       "320049        0.0       14110  United Kingdom           0.0  \n",
       "320407        0.0       12437          France           0.0  \n",
       "322279        0.0       12431       Australia           0.0  \n",
       "328385        0.0       13014  United Kingdom           0.0  \n",
       "329006        0.0       13985  United Kingdom           0.0  \n",
       "329007        0.0       13985  United Kingdom           0.0  \n",
       "334242        0.0       13081  United Kingdom           0.0  \n",
       "334243        0.0       13081  United Kingdom           0.0  \n",
       "352746        0.0       15602  United Kingdom           0.0  \n",
       "353097        0.0       12603         Germany           0.0  \n",
       "354170        0.0       12444          Norway           0.0  \n",
       "358629        0.0       16406  United Kingdom           0.0  \n",
       "370473        0.0       13256  United Kingdom           0.0  "
      ],
      "text/html": "<div>\n<style scoped>\n    .dataframe tbody tr th:only-of-type {\n        vertical-align: middle;\n    }\n\n    .dataframe tbody tr th {\n        vertical-align: top;\n    }\n\n    .dataframe thead th {\n        text-align: right;\n    }\n</style>\n<table border=\"1\" class=\"dataframe\">\n  <thead>\n    <tr style=\"text-align: right;\">\n      <th></th>\n      <th>Unnamed: 0</th>\n      <th>InvoiceNo</th>\n      <th>StockCode</th>\n      <th>year</th>\n      <th>month</th>\n      <th>day</th>\n      <th>hour</th>\n      <th>Description</th>\n      <th>Quantity</th>\n      <th>InvoiceDate</th>\n      <th>UnitPrice</th>\n      <th>CustomerID</th>\n      <th>Country</th>\n      <th>amount_spent</th>\n    </tr>\n  </thead>\n  <tbody>\n    <tr>\n      <th>6914</th>\n      <td>9302</td>\n      <td>537197</td>\n      <td>22841</td>\n      <td>2010</td>\n      <td>12</td>\n      <td>7</td>\n      <td>14</td>\n      <td>round cake tin vintage green</td>\n      <td>1</td>\n      <td>2010-12-05 14:02:00</td>\n      <td>0.0</td>\n      <td>12647</td>\n      <td>Germany</td>\n      <td>0.0</td>\n    </tr>\n    <tr>\n      <th>22539</th>\n      <td>33576</td>\n      <td>539263</td>\n      <td>22580</td>\n      <td>2010</td>\n      <td>12</td>\n      <td>4</td>\n      <td>14</td>\n      <td>advent calendar gingham sack</td>\n      <td>4</td>\n      <td>2010-12-16 14:36:00</td>\n      <td>0.0</td>\n      <td>16560</td>\n      <td>United Kingdom</td>\n      <td>0.0</td>\n    </tr>\n    <tr>\n      <th>25379</th>\n      <td>40089</td>\n      <td>539722</td>\n      <td>22423</td>\n      <td>2010</td>\n      <td>12</td>\n      <td>2</td>\n      <td>13</td>\n      <td>regency cakestand 3 tier</td>\n      <td>10</td>\n      <td>2010-12-21 13:45:00</td>\n      <td>0.0</td>\n      <td>14911</td>\n      <td>EIRE</td>\n      <td>0.0</td>\n    </tr>\n    <tr>\n      <th>29080</th>\n      <td>47068</td>\n      <td>540372</td>\n      <td>22090</td>\n      <td>2011</td>\n      <td>1</td>\n      <td>4</td>\n      <td>16</td>\n      <td>paper bunting retrospot</td>\n      <td>24</td>\n      <td>2011-01-06 16:41:00</td>\n      <td>0.0</td>\n      <td>13081</td>\n      <td>United Kingdom</td>\n      <td>0.0</td>\n    </tr>\n    <tr>\n      <th>29082</th>\n      <td>47070</td>\n      <td>540372</td>\n      <td>22553</td>\n      <td>2011</td>\n      <td>1</td>\n      <td>4</td>\n      <td>16</td>\n      <td>plasters in tin skulls</td>\n      <td>24</td>\n      <td>2011-01-06 16:41:00</td>\n      <td>0.0</td>\n      <td>13081</td>\n      <td>United Kingdom</td>\n      <td>0.0</td>\n    </tr>\n    <tr>\n      <th>34494</th>\n      <td>56674</td>\n      <td>541109</td>\n      <td>22168</td>\n      <td>2011</td>\n      <td>1</td>\n      <td>4</td>\n      <td>15</td>\n      <td>organiser wood antique white</td>\n      <td>1</td>\n      <td>2011-01-13 15:10:00</td>\n      <td>0.0</td>\n      <td>15107</td>\n      <td>United Kingdom</td>\n      <td>0.0</td>\n    </tr>\n    <tr>\n      <th>53788</th>\n      <td>86789</td>\n      <td>543599</td>\n      <td>84535B</td>\n      <td>2011</td>\n      <td>2</td>\n      <td>4</td>\n      <td>13</td>\n      <td>fairy cakes notebook a6 size</td>\n      <td>16</td>\n      <td>2011-02-10 13:08:00</td>\n      <td>0.0</td>\n      <td>17560</td>\n      <td>United Kingdom</td>\n      <td>0.0</td>\n    </tr>\n    <tr>\n      <th>85671</th>\n      <td>130188</td>\n      <td>547417</td>\n      <td>22062</td>\n      <td>2011</td>\n      <td>3</td>\n      <td>3</td>\n      <td>10</td>\n      <td>ceramic bowl with love heart design</td>\n      <td>36</td>\n      <td>2011-03-23 10:25:00</td>\n      <td>0.0</td>\n      <td>13239</td>\n      <td>United Kingdom</td>\n      <td>0.0</td>\n    </tr>\n    <tr>\n      <th>92875</th>\n      <td>139453</td>\n      <td>548318</td>\n      <td>22055</td>\n      <td>2011</td>\n      <td>3</td>\n      <td>3</td>\n      <td>12</td>\n      <td>mini cake stand  hanging strawbery</td>\n      <td>5</td>\n      <td>2011-03-30 12:45:00</td>\n      <td>0.0</td>\n      <td>13113</td>\n      <td>United Kingdom</td>\n      <td>0.0</td>\n    </tr>\n    <tr>\n      <th>97430</th>\n      <td>145208</td>\n      <td>548871</td>\n      <td>22162</td>\n      <td>2011</td>\n      <td>4</td>\n      <td>1</td>\n      <td>14</td>\n      <td>heart garland rustic padded</td>\n      <td>2</td>\n      <td>2011-04-04 14:42:00</td>\n      <td>0.0</td>\n      <td>14410</td>\n      <td>United Kingdom</td>\n      <td>0.0</td>\n    </tr>\n    <tr>\n      <th>107192</th>\n      <td>157042</td>\n      <td>550188</td>\n      <td>22636</td>\n      <td>2011</td>\n      <td>4</td>\n      <td>4</td>\n      <td>18</td>\n      <td>childs breakfast set circus parade</td>\n      <td>1</td>\n      <td>2011-04-14 18:57:00</td>\n      <td>0.0</td>\n      <td>12457</td>\n      <td>Switzerland</td>\n      <td>0.0</td>\n    </tr>\n    <tr>\n      <th>128641</th>\n      <td>187613</td>\n      <td>553000</td>\n      <td>47566</td>\n      <td>2011</td>\n      <td>5</td>\n      <td>4</td>\n      <td>15</td>\n      <td>party bunting</td>\n      <td>4</td>\n      <td>2011-05-12 15:21:00</td>\n      <td>0.0</td>\n      <td>17667</td>\n      <td>United Kingdom</td>\n      <td>0.0</td>\n    </tr>\n    <tr>\n      <th>137127</th>\n      <td>198383</td>\n      <td>554037</td>\n      <td>22619</td>\n      <td>2011</td>\n      <td>5</td>\n      <td>5</td>\n      <td>14</td>\n      <td>set of 6 soldier skittles</td>\n      <td>80</td>\n      <td>2011-05-20 14:13:00</td>\n      <td>0.0</td>\n      <td>12415</td>\n      <td>Australia</td>\n      <td>0.0</td>\n    </tr>\n    <tr>\n      <th>194648</th>\n      <td>279324</td>\n      <td>561284</td>\n      <td>22167</td>\n      <td>2011</td>\n      <td>7</td>\n      <td>2</td>\n      <td>12</td>\n      <td>oval wall mirror diamante</td>\n      <td>1</td>\n      <td>2011-07-26 12:24:00</td>\n      <td>0.0</td>\n      <td>16818</td>\n      <td>United Kingdom</td>\n      <td>0.0</td>\n    </tr>\n    <tr>\n      <th>197173</th>\n      <td>282912</td>\n      <td>561669</td>\n      <td>22960</td>\n      <td>2011</td>\n      <td>7</td>\n      <td>4</td>\n      <td>17</td>\n      <td>jam making set with jars</td>\n      <td>11</td>\n      <td>2011-07-28 17:09:00</td>\n      <td>0.0</td>\n      <td>12507</td>\n      <td>Spain</td>\n      <td>0.0</td>\n    </tr>\n    <tr>\n      <th>199711</th>\n      <td>285657</td>\n      <td>561916</td>\n      <td>M</td>\n      <td>2011</td>\n      <td>8</td>\n      <td>1</td>\n      <td>11</td>\n      <td>manual</td>\n      <td>1</td>\n      <td>2011-08-01 11:44:00</td>\n      <td>0.0</td>\n      <td>15581</td>\n      <td>United Kingdom</td>\n      <td>0.0</td>\n    </tr>\n    <tr>\n      <th>208950</th>\n      <td>298054</td>\n      <td>562973</td>\n      <td>23157</td>\n      <td>2011</td>\n      <td>8</td>\n      <td>4</td>\n      <td>11</td>\n      <td>set of 6 nativity magnets</td>\n      <td>240</td>\n      <td>2011-08-11 11:42:00</td>\n      <td>0.0</td>\n      <td>14911</td>\n      <td>EIRE</td>\n      <td>0.0</td>\n    </tr>\n    <tr>\n      <th>223931</th>\n      <td>314745</td>\n      <td>564651</td>\n      <td>23270</td>\n      <td>2011</td>\n      <td>8</td>\n      <td>5</td>\n      <td>14</td>\n      <td>set of 2 ceramic painted hearts</td>\n      <td>96</td>\n      <td>2011-08-26 14:19:00</td>\n      <td>0.0</td>\n      <td>14646</td>\n      <td>Netherlands</td>\n      <td>0.0</td>\n    </tr>\n    <tr>\n      <th>223932</th>\n      <td>314746</td>\n      <td>564651</td>\n      <td>23268</td>\n      <td>2011</td>\n      <td>8</td>\n      <td>5</td>\n      <td>14</td>\n      <td>set of 2 ceramic christmas reindeer</td>\n      <td>192</td>\n      <td>2011-08-26 14:19:00</td>\n      <td>0.0</td>\n      <td>14646</td>\n      <td>Netherlands</td>\n      <td>0.0</td>\n    </tr>\n    <tr>\n      <th>223933</th>\n      <td>314747</td>\n      <td>564651</td>\n      <td>22955</td>\n      <td>2011</td>\n      <td>8</td>\n      <td>5</td>\n      <td>14</td>\n      <td>36 foil star cake cases</td>\n      <td>144</td>\n      <td>2011-08-26 14:19:00</td>\n      <td>0.0</td>\n      <td>14646</td>\n      <td>Netherlands</td>\n      <td>0.0</td>\n    </tr>\n    <tr>\n      <th>223934</th>\n      <td>314748</td>\n      <td>564651</td>\n      <td>21786</td>\n      <td>2011</td>\n      <td>8</td>\n      <td>5</td>\n      <td>14</td>\n      <td>polkadot rain hat</td>\n      <td>144</td>\n      <td>2011-08-26 14:19:00</td>\n      <td>0.0</td>\n      <td>14646</td>\n      <td>Netherlands</td>\n      <td>0.0</td>\n    </tr>\n    <tr>\n      <th>256263</th>\n      <td>358655</td>\n      <td>568158</td>\n      <td>PADS</td>\n      <td>2011</td>\n      <td>9</td>\n      <td>7</td>\n      <td>12</td>\n      <td>pads to match all cushions</td>\n      <td>1</td>\n      <td>2011-09-25 12:22:00</td>\n      <td>0.0</td>\n      <td>16133</td>\n      <td>United Kingdom</td>\n      <td>0.0</td>\n    </tr>\n    <tr>\n      <th>259399</th>\n      <td>361825</td>\n      <td>568384</td>\n      <td>M</td>\n      <td>2011</td>\n      <td>9</td>\n      <td>2</td>\n      <td>9</td>\n      <td>manual</td>\n      <td>1</td>\n      <td>2011-09-27 09:46:00</td>\n      <td>0.0</td>\n      <td>12748</td>\n      <td>United Kingdom</td>\n      <td>0.0</td>\n    </tr>\n    <tr>\n      <th>273926</th>\n      <td>379913</td>\n      <td>569716</td>\n      <td>22778</td>\n      <td>2011</td>\n      <td>10</td>\n      <td>4</td>\n      <td>8</td>\n      <td>glass cloche small</td>\n      <td>2</td>\n      <td>2011-10-06 08:17:00</td>\n      <td>0.0</td>\n      <td>15804</td>\n      <td>United Kingdom</td>\n      <td>0.0</td>\n    </tr>\n    <tr>\n      <th>286507</th>\n      <td>395529</td>\n      <td>571035</td>\n      <td>M</td>\n      <td>2011</td>\n      <td>10</td>\n      <td>4</td>\n      <td>12</td>\n      <td>manual</td>\n      <td>1</td>\n      <td>2011-10-13 12:50:00</td>\n      <td>0.0</td>\n      <td>12446</td>\n      <td>RSA</td>\n      <td>0.0</td>\n    </tr>\n    <tr>\n      <th>307092</th>\n      <td>420404</td>\n      <td>572893</td>\n      <td>21208</td>\n      <td>2011</td>\n      <td>10</td>\n      <td>3</td>\n      <td>14</td>\n      <td>pastel colour honeycomb fan</td>\n      <td>5</td>\n      <td>2011-10-26 14:36:00</td>\n      <td>0.0</td>\n      <td>18059</td>\n      <td>United Kingdom</td>\n      <td>0.0</td>\n    </tr>\n    <tr>\n      <th>319882</th>\n      <td>436428</td>\n      <td>574138</td>\n      <td>23234</td>\n      <td>2011</td>\n      <td>11</td>\n      <td>4</td>\n      <td>11</td>\n      <td>biscuit tin vintage christmas</td>\n      <td>216</td>\n      <td>2011-11-03 11:26:00</td>\n      <td>0.0</td>\n      <td>12415</td>\n      <td>Australia</td>\n      <td>0.0</td>\n    </tr>\n    <tr>\n      <th>320049</th>\n      <td>436597</td>\n      <td>574175</td>\n      <td>22065</td>\n      <td>2011</td>\n      <td>11</td>\n      <td>4</td>\n      <td>11</td>\n      <td>christmas pudding trinket pot</td>\n      <td>12</td>\n      <td>2011-11-03 11:47:00</td>\n      <td>0.0</td>\n      <td>14110</td>\n      <td>United Kingdom</td>\n      <td>0.0</td>\n    </tr>\n    <tr>\n      <th>320407</th>\n      <td>436961</td>\n      <td>574252</td>\n      <td>M</td>\n      <td>2011</td>\n      <td>11</td>\n      <td>4</td>\n      <td>13</td>\n      <td>manual</td>\n      <td>1</td>\n      <td>2011-11-03 13:24:00</td>\n      <td>0.0</td>\n      <td>12437</td>\n      <td>France</td>\n      <td>0.0</td>\n    </tr>\n    <tr>\n      <th>322279</th>\n      <td>439361</td>\n      <td>574469</td>\n      <td>22385</td>\n      <td>2011</td>\n      <td>11</td>\n      <td>5</td>\n      <td>11</td>\n      <td>jumbo bag spaceboy design</td>\n      <td>12</td>\n      <td>2011-11-04 11:55:00</td>\n      <td>0.0</td>\n      <td>12431</td>\n      <td>Australia</td>\n      <td>0.0</td>\n    </tr>\n    <tr>\n      <th>328385</th>\n      <td>446125</td>\n      <td>574879</td>\n      <td>22625</td>\n      <td>2011</td>\n      <td>11</td>\n      <td>1</td>\n      <td>13</td>\n      <td>red kitchen scales</td>\n      <td>2</td>\n      <td>2011-11-07 13:22:00</td>\n      <td>0.0</td>\n      <td>13014</td>\n      <td>United Kingdom</td>\n      <td>0.0</td>\n    </tr>\n    <tr>\n      <th>329006</th>\n      <td>446793</td>\n      <td>574920</td>\n      <td>22899</td>\n      <td>2011</td>\n      <td>11</td>\n      <td>1</td>\n      <td>16</td>\n      <td>children's apron dolly girl</td>\n      <td>1</td>\n      <td>2011-11-07 16:34:00</td>\n      <td>0.0</td>\n      <td>13985</td>\n      <td>United Kingdom</td>\n      <td>0.0</td>\n    </tr>\n    <tr>\n      <th>329007</th>\n      <td>446794</td>\n      <td>574920</td>\n      <td>23480</td>\n      <td>2011</td>\n      <td>11</td>\n      <td>1</td>\n      <td>16</td>\n      <td>mini lights woodland mushrooms</td>\n      <td>1</td>\n      <td>2011-11-07 16:34:00</td>\n      <td>0.0</td>\n      <td>13985</td>\n      <td>United Kingdom</td>\n      <td>0.0</td>\n    </tr>\n    <tr>\n      <th>334242</th>\n      <td>454463</td>\n      <td>575579</td>\n      <td>22437</td>\n      <td>2011</td>\n      <td>11</td>\n      <td>4</td>\n      <td>11</td>\n      <td>set of 9 black skull balloons</td>\n      <td>20</td>\n      <td>2011-11-10 11:49:00</td>\n      <td>0.0</td>\n      <td>13081</td>\n      <td>United Kingdom</td>\n      <td>0.0</td>\n    </tr>\n    <tr>\n      <th>334243</th>\n      <td>454464</td>\n      <td>575579</td>\n      <td>22089</td>\n      <td>2011</td>\n      <td>11</td>\n      <td>4</td>\n      <td>11</td>\n      <td>paper bunting vintage paisley</td>\n      <td>24</td>\n      <td>2011-11-10 11:49:00</td>\n      <td>0.0</td>\n      <td>13081</td>\n      <td>United Kingdom</td>\n      <td>0.0</td>\n    </tr>\n    <tr>\n      <th>352746</th>\n      <td>479079</td>\n      <td>577129</td>\n      <td>22464</td>\n      <td>2011</td>\n      <td>11</td>\n      <td>4</td>\n      <td>19</td>\n      <td>hanging metal heart lantern</td>\n      <td>4</td>\n      <td>2011-11-17 19:52:00</td>\n      <td>0.0</td>\n      <td>15602</td>\n      <td>United Kingdom</td>\n      <td>0.0</td>\n    </tr>\n    <tr>\n      <th>353097</th>\n      <td>479546</td>\n      <td>577168</td>\n      <td>M</td>\n      <td>2011</td>\n      <td>11</td>\n      <td>5</td>\n      <td>10</td>\n      <td>manual</td>\n      <td>1</td>\n      <td>2011-11-18 10:42:00</td>\n      <td>0.0</td>\n      <td>12603</td>\n      <td>Germany</td>\n      <td>0.0</td>\n    </tr>\n    <tr>\n      <th>354170</th>\n      <td>480649</td>\n      <td>577314</td>\n      <td>23407</td>\n      <td>2011</td>\n      <td>11</td>\n      <td>5</td>\n      <td>13</td>\n      <td>set of 2 trays home sweet home</td>\n      <td>2</td>\n      <td>2011-11-18 13:23:00</td>\n      <td>0.0</td>\n      <td>12444</td>\n      <td>Norway</td>\n      <td>0.0</td>\n    </tr>\n    <tr>\n      <th>358629</th>\n      <td>485985</td>\n      <td>577696</td>\n      <td>M</td>\n      <td>2011</td>\n      <td>11</td>\n      <td>1</td>\n      <td>11</td>\n      <td>manual</td>\n      <td>1</td>\n      <td>2011-11-21 11:57:00</td>\n      <td>0.0</td>\n      <td>16406</td>\n      <td>United Kingdom</td>\n      <td>0.0</td>\n    </tr>\n    <tr>\n      <th>370473</th>\n      <td>502122</td>\n      <td>578841</td>\n      <td>84826</td>\n      <td>2011</td>\n      <td>11</td>\n      <td>5</td>\n      <td>15</td>\n      <td>asstd design 3d paper stickers</td>\n      <td>12540</td>\n      <td>2011-11-25 15:57:00</td>\n      <td>0.0</td>\n      <td>13256</td>\n      <td>United Kingdom</td>\n      <td>0.0</td>\n    </tr>\n  </tbody>\n</table>\n</div>"
     },
     "metadata": {},
     "execution_count": 193
    }
   ],
   "source": [
    "# your code here\n",
    "orders[orders['amount_spent']==0.0]"
   ]
  },
  {
   "cell_type": "markdown",
   "metadata": {},
   "source": [
    "#### Select all orders whose description starts with `lunch bag`.\n",
    "**Hint**: use string functions."
   ]
  },
  {
   "cell_type": "code",
   "execution_count": 203,
   "metadata": {},
   "outputs": [
    {
     "output_type": "execute_result",
     "data": {
      "text/plain": [
       "     Unnamed: 0  InvoiceNo StockCode  year  month  day  hour  \\\n",
       "93           93     536378     20725  2010     12    3     9   \n",
       "172         174     536385     22662  2010     12    3     9   \n",
       "354         363     536401     22662  2010     12    3    11   \n",
       "359         368     536401     20725  2010     12    3    11   \n",
       "360         369     536401     22382  2010     12    3    11   \n",
       "\n",
       "                     Description  Quantity          InvoiceDate  UnitPrice  \\\n",
       "93       lunch bag red retrospot        10  2010-12-01 09:37:00       1.65   \n",
       "172  lunch bag dolly girl design        10  2010-12-01 09:56:00       1.65   \n",
       "354  lunch bag dolly girl design         1  2010-12-01 11:21:00       1.65   \n",
       "359      lunch bag red retrospot         1  2010-12-01 11:21:00       1.65   \n",
       "360   lunch bag spaceboy design          2  2010-12-01 11:21:00       1.65   \n",
       "\n",
       "     CustomerID         Country  amount_spent  \n",
       "93        14688  United Kingdom         16.50  \n",
       "172       17420  United Kingdom         16.50  \n",
       "354       15862  United Kingdom          1.65  \n",
       "359       15862  United Kingdom          1.65  \n",
       "360       15862  United Kingdom          3.30  "
      ],
      "text/html": "<div>\n<style scoped>\n    .dataframe tbody tr th:only-of-type {\n        vertical-align: middle;\n    }\n\n    .dataframe tbody tr th {\n        vertical-align: top;\n    }\n\n    .dataframe thead th {\n        text-align: right;\n    }\n</style>\n<table border=\"1\" class=\"dataframe\">\n  <thead>\n    <tr style=\"text-align: right;\">\n      <th></th>\n      <th>Unnamed: 0</th>\n      <th>InvoiceNo</th>\n      <th>StockCode</th>\n      <th>year</th>\n      <th>month</th>\n      <th>day</th>\n      <th>hour</th>\n      <th>Description</th>\n      <th>Quantity</th>\n      <th>InvoiceDate</th>\n      <th>UnitPrice</th>\n      <th>CustomerID</th>\n      <th>Country</th>\n      <th>amount_spent</th>\n    </tr>\n  </thead>\n  <tbody>\n    <tr>\n      <th>93</th>\n      <td>93</td>\n      <td>536378</td>\n      <td>20725</td>\n      <td>2010</td>\n      <td>12</td>\n      <td>3</td>\n      <td>9</td>\n      <td>lunch bag red retrospot</td>\n      <td>10</td>\n      <td>2010-12-01 09:37:00</td>\n      <td>1.65</td>\n      <td>14688</td>\n      <td>United Kingdom</td>\n      <td>16.50</td>\n    </tr>\n    <tr>\n      <th>172</th>\n      <td>174</td>\n      <td>536385</td>\n      <td>22662</td>\n      <td>2010</td>\n      <td>12</td>\n      <td>3</td>\n      <td>9</td>\n      <td>lunch bag dolly girl design</td>\n      <td>10</td>\n      <td>2010-12-01 09:56:00</td>\n      <td>1.65</td>\n      <td>17420</td>\n      <td>United Kingdom</td>\n      <td>16.50</td>\n    </tr>\n    <tr>\n      <th>354</th>\n      <td>363</td>\n      <td>536401</td>\n      <td>22662</td>\n      <td>2010</td>\n      <td>12</td>\n      <td>3</td>\n      <td>11</td>\n      <td>lunch bag dolly girl design</td>\n      <td>1</td>\n      <td>2010-12-01 11:21:00</td>\n      <td>1.65</td>\n      <td>15862</td>\n      <td>United Kingdom</td>\n      <td>1.65</td>\n    </tr>\n    <tr>\n      <th>359</th>\n      <td>368</td>\n      <td>536401</td>\n      <td>20725</td>\n      <td>2010</td>\n      <td>12</td>\n      <td>3</td>\n      <td>11</td>\n      <td>lunch bag red retrospot</td>\n      <td>1</td>\n      <td>2010-12-01 11:21:00</td>\n      <td>1.65</td>\n      <td>15862</td>\n      <td>United Kingdom</td>\n      <td>1.65</td>\n    </tr>\n    <tr>\n      <th>360</th>\n      <td>369</td>\n      <td>536401</td>\n      <td>22382</td>\n      <td>2010</td>\n      <td>12</td>\n      <td>3</td>\n      <td>11</td>\n      <td>lunch bag spaceboy design</td>\n      <td>2</td>\n      <td>2010-12-01 11:21:00</td>\n      <td>1.65</td>\n      <td>15862</td>\n      <td>United Kingdom</td>\n      <td>3.30</td>\n    </tr>\n  </tbody>\n</table>\n</div>"
     },
     "metadata": {},
     "execution_count": 203
    }
   ],
   "source": [
    "orders_lunch_bag = orders[orders['Description'].str.contains(\"lunch bag\")]\n",
    "orders_lunch_bag.head()"
   ]
  },
  {
   "cell_type": "markdown",
   "metadata": {},
   "source": [
    "#### Select all `lunch bag` orders made in 2011."
   ]
  },
  {
   "cell_type": "code",
   "execution_count": 204,
   "metadata": {},
   "outputs": [
    {
     "output_type": "execute_result",
     "data": {
      "text/plain": [
       "        Unnamed: 0  InvoiceNo StockCode  year  month  day  hour  \\\n",
       "26340        42678     540015     20725  2011      1    2    11   \n",
       "26341        42679     540015     20726  2011      1    2    11   \n",
       "26512        42851     540023     22382  2011      1    2    12   \n",
       "26513        42852     540023     20726  2011      1    2    12   \n",
       "26860        43616     540098     22384  2011      1    2    15   \n",
       "...            ...        ...       ...   ...    ...  ...   ...   \n",
       "397465      540436     581486     23207  2011     12    5     9   \n",
       "397713      541695     581538     20727  2011     12    5    11   \n",
       "397714      541696     581538     20725  2011     12    5    11   \n",
       "397877      541862     581581     23681  2011     12    5    12   \n",
       "397880      541865     581583     20725  2011     12    5    12   \n",
       "\n",
       "                        Description  Quantity          InvoiceDate  UnitPrice  \\\n",
       "26340       lunch bag red retrospot        10  2011-01-04 11:40:00       1.65   \n",
       "26341            lunch bag woodland        10  2011-01-04 11:40:00       1.65   \n",
       "26512    lunch bag spaceboy design          2  2011-01-04 12:58:00       1.65   \n",
       "26513            lunch bag woodland         1  2011-01-04 12:58:00       1.65   \n",
       "26860       lunch bag pink polkadot         1  2011-01-04 15:50:00       1.65   \n",
       "...                             ...       ...                  ...        ...   \n",
       "397465    lunch bag alphabet design        10  2011-12-09 09:38:00       1.65   \n",
       "397713      lunch bag  black skull.         1  2011-12-09 11:34:00       1.65   \n",
       "397714      lunch bag red retrospot         1  2011-12-09 11:34:00       1.65   \n",
       "397877  lunch bag red vintage doily        10  2011-12-09 12:20:00       1.65   \n",
       "397880      lunch bag red retrospot        40  2011-12-09 12:23:00       1.45   \n",
       "\n",
       "        CustomerID         Country  amount_spent  \n",
       "26340        13319  United Kingdom         16.50  \n",
       "26341        13319  United Kingdom         16.50  \n",
       "26512        15039  United Kingdom          3.30  \n",
       "26513        15039  United Kingdom          1.65  \n",
       "26860        16241  United Kingdom          1.65  \n",
       "...            ...             ...           ...  \n",
       "397465       17001  United Kingdom         16.50  \n",
       "397713       14446  United Kingdom          1.65  \n",
       "397714       14446  United Kingdom          1.65  \n",
       "397877       17581  United Kingdom         16.50  \n",
       "397880       13777  United Kingdom         58.00  \n",
       "\n",
       "[11234 rows x 14 columns]"
      ],
      "text/html": "<div>\n<style scoped>\n    .dataframe tbody tr th:only-of-type {\n        vertical-align: middle;\n    }\n\n    .dataframe tbody tr th {\n        vertical-align: top;\n    }\n\n    .dataframe thead th {\n        text-align: right;\n    }\n</style>\n<table border=\"1\" class=\"dataframe\">\n  <thead>\n    <tr style=\"text-align: right;\">\n      <th></th>\n      <th>Unnamed: 0</th>\n      <th>InvoiceNo</th>\n      <th>StockCode</th>\n      <th>year</th>\n      <th>month</th>\n      <th>day</th>\n      <th>hour</th>\n      <th>Description</th>\n      <th>Quantity</th>\n      <th>InvoiceDate</th>\n      <th>UnitPrice</th>\n      <th>CustomerID</th>\n      <th>Country</th>\n      <th>amount_spent</th>\n    </tr>\n  </thead>\n  <tbody>\n    <tr>\n      <th>26340</th>\n      <td>42678</td>\n      <td>540015</td>\n      <td>20725</td>\n      <td>2011</td>\n      <td>1</td>\n      <td>2</td>\n      <td>11</td>\n      <td>lunch bag red retrospot</td>\n      <td>10</td>\n      <td>2011-01-04 11:40:00</td>\n      <td>1.65</td>\n      <td>13319</td>\n      <td>United Kingdom</td>\n      <td>16.50</td>\n    </tr>\n    <tr>\n      <th>26341</th>\n      <td>42679</td>\n      <td>540015</td>\n      <td>20726</td>\n      <td>2011</td>\n      <td>1</td>\n      <td>2</td>\n      <td>11</td>\n      <td>lunch bag woodland</td>\n      <td>10</td>\n      <td>2011-01-04 11:40:00</td>\n      <td>1.65</td>\n      <td>13319</td>\n      <td>United Kingdom</td>\n      <td>16.50</td>\n    </tr>\n    <tr>\n      <th>26512</th>\n      <td>42851</td>\n      <td>540023</td>\n      <td>22382</td>\n      <td>2011</td>\n      <td>1</td>\n      <td>2</td>\n      <td>12</td>\n      <td>lunch bag spaceboy design</td>\n      <td>2</td>\n      <td>2011-01-04 12:58:00</td>\n      <td>1.65</td>\n      <td>15039</td>\n      <td>United Kingdom</td>\n      <td>3.30</td>\n    </tr>\n    <tr>\n      <th>26513</th>\n      <td>42852</td>\n      <td>540023</td>\n      <td>20726</td>\n      <td>2011</td>\n      <td>1</td>\n      <td>2</td>\n      <td>12</td>\n      <td>lunch bag woodland</td>\n      <td>1</td>\n      <td>2011-01-04 12:58:00</td>\n      <td>1.65</td>\n      <td>15039</td>\n      <td>United Kingdom</td>\n      <td>1.65</td>\n    </tr>\n    <tr>\n      <th>26860</th>\n      <td>43616</td>\n      <td>540098</td>\n      <td>22384</td>\n      <td>2011</td>\n      <td>1</td>\n      <td>2</td>\n      <td>15</td>\n      <td>lunch bag pink polkadot</td>\n      <td>1</td>\n      <td>2011-01-04 15:50:00</td>\n      <td>1.65</td>\n      <td>16241</td>\n      <td>United Kingdom</td>\n      <td>1.65</td>\n    </tr>\n    <tr>\n      <th>...</th>\n      <td>...</td>\n      <td>...</td>\n      <td>...</td>\n      <td>...</td>\n      <td>...</td>\n      <td>...</td>\n      <td>...</td>\n      <td>...</td>\n      <td>...</td>\n      <td>...</td>\n      <td>...</td>\n      <td>...</td>\n      <td>...</td>\n      <td>...</td>\n    </tr>\n    <tr>\n      <th>397465</th>\n      <td>540436</td>\n      <td>581486</td>\n      <td>23207</td>\n      <td>2011</td>\n      <td>12</td>\n      <td>5</td>\n      <td>9</td>\n      <td>lunch bag alphabet design</td>\n      <td>10</td>\n      <td>2011-12-09 09:38:00</td>\n      <td>1.65</td>\n      <td>17001</td>\n      <td>United Kingdom</td>\n      <td>16.50</td>\n    </tr>\n    <tr>\n      <th>397713</th>\n      <td>541695</td>\n      <td>581538</td>\n      <td>20727</td>\n      <td>2011</td>\n      <td>12</td>\n      <td>5</td>\n      <td>11</td>\n      <td>lunch bag  black skull.</td>\n      <td>1</td>\n      <td>2011-12-09 11:34:00</td>\n      <td>1.65</td>\n      <td>14446</td>\n      <td>United Kingdom</td>\n      <td>1.65</td>\n    </tr>\n    <tr>\n      <th>397714</th>\n      <td>541696</td>\n      <td>581538</td>\n      <td>20725</td>\n      <td>2011</td>\n      <td>12</td>\n      <td>5</td>\n      <td>11</td>\n      <td>lunch bag red retrospot</td>\n      <td>1</td>\n      <td>2011-12-09 11:34:00</td>\n      <td>1.65</td>\n      <td>14446</td>\n      <td>United Kingdom</td>\n      <td>1.65</td>\n    </tr>\n    <tr>\n      <th>397877</th>\n      <td>541862</td>\n      <td>581581</td>\n      <td>23681</td>\n      <td>2011</td>\n      <td>12</td>\n      <td>5</td>\n      <td>12</td>\n      <td>lunch bag red vintage doily</td>\n      <td>10</td>\n      <td>2011-12-09 12:20:00</td>\n      <td>1.65</td>\n      <td>17581</td>\n      <td>United Kingdom</td>\n      <td>16.50</td>\n    </tr>\n    <tr>\n      <th>397880</th>\n      <td>541865</td>\n      <td>581583</td>\n      <td>20725</td>\n      <td>2011</td>\n      <td>12</td>\n      <td>5</td>\n      <td>12</td>\n      <td>lunch bag red retrospot</td>\n      <td>40</td>\n      <td>2011-12-09 12:23:00</td>\n      <td>1.45</td>\n      <td>13777</td>\n      <td>United Kingdom</td>\n      <td>58.00</td>\n    </tr>\n  </tbody>\n</table>\n<p>11234 rows × 14 columns</p>\n</div>"
     },
     "metadata": {},
     "execution_count": 204
    }
   ],
   "source": [
    "# your code here\n",
    "orders_lunch_bag[orders_lunch_bag['year'] == 2011]"
   ]
  },
  {
   "cell_type": "markdown",
   "metadata": {},
   "source": [
    "#### Show the frequency distribution of the amount spent in Spain."
   ]
  },
  {
   "cell_type": "code",
   "execution_count": 272,
   "metadata": {},
   "outputs": [],
   "source": [
    "# your code here\n",
    "import matplotlib as plt\n",
    "import seaborn as sns\n",
    "orders_Spain = orders.groupby(['Country','amount_spent']).agg({'CustomerID':'count'})\n",
    "Spain = orders_Spain.loc['Spain'].reset_index()\n",
    "#Spain"
   ]
  },
  {
   "cell_type": "code",
   "execution_count": 232,
   "metadata": {},
   "outputs": [
    {
     "output_type": "display_data",
     "data": {
      "text/plain": "<Figure size 432x288 with 1 Axes>",
      "image/svg+xml": "<?xml version=\"1.0\" encoding=\"utf-8\" standalone=\"no\"?>\r\n<!DOCTYPE svg PUBLIC \"-//W3C//DTD SVG 1.1//EN\"\r\n  \"http://www.w3.org/Graphics/SVG/1.1/DTD/svg11.dtd\">\r\n<!-- Created with matplotlib (https://matplotlib.org/) -->\r\n<svg height=\"262.19625pt\" version=\"1.1\" viewBox=\"0 0 384.067045 262.19625\" width=\"384.067045pt\" xmlns=\"http://www.w3.org/2000/svg\" xmlns:xlink=\"http://www.w3.org/1999/xlink\">\r\n <defs>\r\n  <style type=\"text/css\">\r\n*{stroke-linecap:butt;stroke-linejoin:round;}\r\n  </style>\r\n </defs>\r\n <g id=\"figure_1\">\r\n  <g id=\"patch_1\">\r\n   <path d=\"M 0 262.19625 \r\nL 384.067045 262.19625 \r\nL 384.067045 0 \r\nL 0 0 \r\nz\r\n\" style=\"fill:none;\"/>\r\n  </g>\r\n  <g id=\"axes_1\">\r\n   <g id=\"patch_2\">\r\n    <path d=\"M 33.2875 224.64 \r\nL 368.0875 224.64 \r\nL 368.0875 7.2 \r\nL 33.2875 7.2 \r\nz\r\n\" style=\"fill:#ffffff;\"/>\r\n   </g>\r\n   <g id=\"patch_3\">\r\n    <path clip-path=\"url(#pa43e7fb50d)\" d=\"M 48.505682 224.64 \r\nL 54.592955 224.64 \r\nL 54.592955 17.554286 \r\nL 48.505682 17.554286 \r\nz\r\n\" style=\"fill:#800080;opacity:0.4;\"/>\r\n   </g>\r\n   <g id=\"patch_4\">\r\n    <path clip-path=\"url(#pa43e7fb50d)\" d=\"M 54.592955 224.64 \r\nL 60.680227 224.64 \r\nL 60.680227 173.38116 \r\nL 54.592955 173.38116 \r\nz\r\n\" style=\"fill:#800080;opacity:0.4;\"/>\r\n   </g>\r\n   <g id=\"patch_5\">\r\n    <path clip-path=\"url(#pa43e7fb50d)\" d=\"M 60.680227 224.64 \r\nL 66.7675 224.64 \r\nL 66.7675 206.186818 \r\nL 60.680227 206.186818 \r\nz\r\n\" style=\"fill:#800080;opacity:0.4;\"/>\r\n   </g>\r\n   <g id=\"patch_6\">\r\n    <path clip-path=\"url(#pa43e7fb50d)\" d=\"M 66.7675 224.64 \r\nL 72.854773 224.64 \r\nL 72.854773 211.312702 \r\nL 66.7675 211.312702 \r\nz\r\n\" style=\"fill:#800080;opacity:0.4;\"/>\r\n   </g>\r\n   <g id=\"patch_7\">\r\n    <path clip-path=\"url(#pa43e7fb50d)\" d=\"M 72.854773 224.64 \r\nL 78.942045 224.64 \r\nL 78.942045 217.463762 \r\nL 72.854773 217.463762 \r\nz\r\n\" style=\"fill:#800080;opacity:0.4;\"/>\r\n   </g>\r\n   <g id=\"patch_8\">\r\n    <path clip-path=\"url(#pa43e7fb50d)\" d=\"M 78.942045 224.64 \r\nL 85.029318 224.64 \r\nL 85.029318 222.589646 \r\nL 78.942045 222.589646 \r\nz\r\n\" style=\"fill:#800080;opacity:0.4;\"/>\r\n   </g>\r\n   <g id=\"patch_9\">\r\n    <path clip-path=\"url(#pa43e7fb50d)\" d=\"M 85.029318 224.64 \r\nL 91.116591 224.64 \r\nL 91.116591 219.514116 \r\nL 85.029318 219.514116 \r\nz\r\n\" style=\"fill:#800080;opacity:0.4;\"/>\r\n   </g>\r\n   <g id=\"patch_10\">\r\n    <path clip-path=\"url(#pa43e7fb50d)\" d=\"M 91.116591 224.64 \r\nL 97.203864 224.64 \r\nL 97.203864 220.539293 \r\nL 91.116591 220.539293 \r\nz\r\n\" style=\"fill:#800080;opacity:0.4;\"/>\r\n   </g>\r\n   <g id=\"patch_11\">\r\n    <path clip-path=\"url(#pa43e7fb50d)\" d=\"M 97.203864 224.64 \r\nL 103.291136 224.64 \r\nL 103.291136 222.589646 \r\nL 97.203864 222.589646 \r\nz\r\n\" style=\"fill:#800080;opacity:0.4;\"/>\r\n   </g>\r\n   <g id=\"patch_12\">\r\n    <path clip-path=\"url(#pa43e7fb50d)\" d=\"M 103.291136 224.64 \r\nL 109.378409 224.64 \r\nL 109.378409 222.589646 \r\nL 103.291136 222.589646 \r\nz\r\n\" style=\"fill:#800080;opacity:0.4;\"/>\r\n   </g>\r\n   <g id=\"patch_13\">\r\n    <path clip-path=\"url(#pa43e7fb50d)\" d=\"M 109.378409 224.64 \r\nL 115.465682 224.64 \r\nL 115.465682 221.56447 \r\nL 109.378409 221.56447 \r\nz\r\n\" style=\"fill:#800080;opacity:0.4;\"/>\r\n   </g>\r\n   <g id=\"patch_14\">\r\n    <path clip-path=\"url(#pa43e7fb50d)\" d=\"M 115.465682 224.64 \r\nL 121.552955 224.64 \r\nL 121.552955 223.614823 \r\nL 115.465682 223.614823 \r\nz\r\n\" style=\"fill:#800080;opacity:0.4;\"/>\r\n   </g>\r\n   <g id=\"patch_15\">\r\n    <path clip-path=\"url(#pa43e7fb50d)\" d=\"M 121.552955 224.64 \r\nL 127.640227 224.64 \r\nL 127.640227 223.614823 \r\nL 121.552955 223.614823 \r\nz\r\n\" style=\"fill:#800080;opacity:0.4;\"/>\r\n   </g>\r\n   <g id=\"patch_16\">\r\n    <path clip-path=\"url(#pa43e7fb50d)\" d=\"M 127.640227 224.64 \r\nL 133.7275 224.64 \r\nL 133.7275 223.614823 \r\nL 127.640227 223.614823 \r\nz\r\n\" style=\"fill:#800080;opacity:0.4;\"/>\r\n   </g>\r\n   <g id=\"patch_17\">\r\n    <path clip-path=\"url(#pa43e7fb50d)\" d=\"M 133.7275 224.64 \r\nL 139.814773 224.64 \r\nL 139.814773 224.64 \r\nL 133.7275 224.64 \r\nz\r\n\" style=\"fill:#800080;opacity:0.4;\"/>\r\n   </g>\r\n   <g id=\"patch_18\">\r\n    <path clip-path=\"url(#pa43e7fb50d)\" d=\"M 139.814773 224.64 \r\nL 145.902045 224.64 \r\nL 145.902045 223.614823 \r\nL 139.814773 223.614823 \r\nz\r\n\" style=\"fill:#800080;opacity:0.4;\"/>\r\n   </g>\r\n   <g id=\"patch_19\">\r\n    <path clip-path=\"url(#pa43e7fb50d)\" d=\"M 145.902045 224.64 \r\nL 151.989318 224.64 \r\nL 151.989318 224.64 \r\nL 145.902045 224.64 \r\nz\r\n\" style=\"fill:#800080;opacity:0.4;\"/>\r\n   </g>\r\n   <g id=\"patch_20\">\r\n    <path clip-path=\"url(#pa43e7fb50d)\" d=\"M 151.989318 224.64 \r\nL 158.076591 224.64 \r\nL 158.076591 224.64 \r\nL 151.989318 224.64 \r\nz\r\n\" style=\"fill:#800080;opacity:0.4;\"/>\r\n   </g>\r\n   <g id=\"patch_21\">\r\n    <path clip-path=\"url(#pa43e7fb50d)\" d=\"M 158.076591 224.64 \r\nL 164.163864 224.64 \r\nL 164.163864 223.614823 \r\nL 158.076591 223.614823 \r\nz\r\n\" style=\"fill:#800080;opacity:0.4;\"/>\r\n   </g>\r\n   <g id=\"patch_22\">\r\n    <path clip-path=\"url(#pa43e7fb50d)\" d=\"M 164.163864 224.64 \r\nL 170.251136 224.64 \r\nL 170.251136 224.64 \r\nL 164.163864 224.64 \r\nz\r\n\" style=\"fill:#800080;opacity:0.4;\"/>\r\n   </g>\r\n   <g id=\"patch_23\">\r\n    <path clip-path=\"url(#pa43e7fb50d)\" d=\"M 170.251136 224.64 \r\nL 176.338409 224.64 \r\nL 176.338409 224.64 \r\nL 170.251136 224.64 \r\nz\r\n\" style=\"fill:#800080;opacity:0.4;\"/>\r\n   </g>\r\n   <g id=\"patch_24\">\r\n    <path clip-path=\"url(#pa43e7fb50d)\" d=\"M 176.338409 224.64 \r\nL 182.425682 224.64 \r\nL 182.425682 224.64 \r\nL 176.338409 224.64 \r\nz\r\n\" style=\"fill:#800080;opacity:0.4;\"/>\r\n   </g>\r\n   <g id=\"patch_25\">\r\n    <path clip-path=\"url(#pa43e7fb50d)\" d=\"M 182.425682 224.64 \r\nL 188.512955 224.64 \r\nL 188.512955 224.64 \r\nL 182.425682 224.64 \r\nz\r\n\" style=\"fill:#800080;opacity:0.4;\"/>\r\n   </g>\r\n   <g id=\"patch_26\">\r\n    <path clip-path=\"url(#pa43e7fb50d)\" d=\"M 188.512955 224.64 \r\nL 194.600227 224.64 \r\nL 194.600227 224.64 \r\nL 188.512955 224.64 \r\nz\r\n\" style=\"fill:#800080;opacity:0.4;\"/>\r\n   </g>\r\n   <g id=\"patch_27\">\r\n    <path clip-path=\"url(#pa43e7fb50d)\" d=\"M 194.600227 224.64 \r\nL 200.6875 224.64 \r\nL 200.6875 224.64 \r\nL 194.600227 224.64 \r\nz\r\n\" style=\"fill:#800080;opacity:0.4;\"/>\r\n   </g>\r\n   <g id=\"patch_28\">\r\n    <path clip-path=\"url(#pa43e7fb50d)\" d=\"M 200.6875 224.64 \r\nL 206.774773 224.64 \r\nL 206.774773 224.64 \r\nL 200.6875 224.64 \r\nz\r\n\" style=\"fill:#800080;opacity:0.4;\"/>\r\n   </g>\r\n   <g id=\"patch_29\">\r\n    <path clip-path=\"url(#pa43e7fb50d)\" d=\"M 206.774773 224.64 \r\nL 212.862045 224.64 \r\nL 212.862045 224.64 \r\nL 206.774773 224.64 \r\nz\r\n\" style=\"fill:#800080;opacity:0.4;\"/>\r\n   </g>\r\n   <g id=\"patch_30\">\r\n    <path clip-path=\"url(#pa43e7fb50d)\" d=\"M 212.862045 224.64 \r\nL 218.949318 224.64 \r\nL 218.949318 224.64 \r\nL 212.862045 224.64 \r\nz\r\n\" style=\"fill:#800080;opacity:0.4;\"/>\r\n   </g>\r\n   <g id=\"patch_31\">\r\n    <path clip-path=\"url(#pa43e7fb50d)\" d=\"M 218.949318 224.64 \r\nL 225.036591 224.64 \r\nL 225.036591 224.64 \r\nL 218.949318 224.64 \r\nz\r\n\" style=\"fill:#800080;opacity:0.4;\"/>\r\n   </g>\r\n   <g id=\"patch_32\">\r\n    <path clip-path=\"url(#pa43e7fb50d)\" d=\"M 225.036591 224.64 \r\nL 231.123864 224.64 \r\nL 231.123864 224.64 \r\nL 225.036591 224.64 \r\nz\r\n\" style=\"fill:#800080;opacity:0.4;\"/>\r\n   </g>\r\n   <g id=\"patch_33\">\r\n    <path clip-path=\"url(#pa43e7fb50d)\" d=\"M 231.123864 224.64 \r\nL 237.211136 224.64 \r\nL 237.211136 224.64 \r\nL 231.123864 224.64 \r\nz\r\n\" style=\"fill:#800080;opacity:0.4;\"/>\r\n   </g>\r\n   <g id=\"patch_34\">\r\n    <path clip-path=\"url(#pa43e7fb50d)\" d=\"M 237.211136 224.64 \r\nL 243.298409 224.64 \r\nL 243.298409 224.64 \r\nL 237.211136 224.64 \r\nz\r\n\" style=\"fill:#800080;opacity:0.4;\"/>\r\n   </g>\r\n   <g id=\"patch_35\">\r\n    <path clip-path=\"url(#pa43e7fb50d)\" d=\"M 243.298409 224.64 \r\nL 249.385682 224.64 \r\nL 249.385682 224.64 \r\nL 243.298409 224.64 \r\nz\r\n\" style=\"fill:#800080;opacity:0.4;\"/>\r\n   </g>\r\n   <g id=\"patch_36\">\r\n    <path clip-path=\"url(#pa43e7fb50d)\" d=\"M 249.385682 224.64 \r\nL 255.472955 224.64 \r\nL 255.472955 224.64 \r\nL 249.385682 224.64 \r\nz\r\n\" style=\"fill:#800080;opacity:0.4;\"/>\r\n   </g>\r\n   <g id=\"patch_37\">\r\n    <path clip-path=\"url(#pa43e7fb50d)\" d=\"M 255.472955 224.64 \r\nL 261.560227 224.64 \r\nL 261.560227 224.64 \r\nL 255.472955 224.64 \r\nz\r\n\" style=\"fill:#800080;opacity:0.4;\"/>\r\n   </g>\r\n   <g id=\"patch_38\">\r\n    <path clip-path=\"url(#pa43e7fb50d)\" d=\"M 261.560227 224.64 \r\nL 267.6475 224.64 \r\nL 267.6475 224.64 \r\nL 261.560227 224.64 \r\nz\r\n\" style=\"fill:#800080;opacity:0.4;\"/>\r\n   </g>\r\n   <g id=\"patch_39\">\r\n    <path clip-path=\"url(#pa43e7fb50d)\" d=\"M 267.6475 224.64 \r\nL 273.734773 224.64 \r\nL 273.734773 224.64 \r\nL 267.6475 224.64 \r\nz\r\n\" style=\"fill:#800080;opacity:0.4;\"/>\r\n   </g>\r\n   <g id=\"patch_40\">\r\n    <path clip-path=\"url(#pa43e7fb50d)\" d=\"M 273.734773 224.64 \r\nL 279.822045 224.64 \r\nL 279.822045 224.64 \r\nL 273.734773 224.64 \r\nz\r\n\" style=\"fill:#800080;opacity:0.4;\"/>\r\n   </g>\r\n   <g id=\"patch_41\">\r\n    <path clip-path=\"url(#pa43e7fb50d)\" d=\"M 279.822045 224.64 \r\nL 285.909318 224.64 \r\nL 285.909318 224.64 \r\nL 279.822045 224.64 \r\nz\r\n\" style=\"fill:#800080;opacity:0.4;\"/>\r\n   </g>\r\n   <g id=\"patch_42\">\r\n    <path clip-path=\"url(#pa43e7fb50d)\" d=\"M 285.909318 224.64 \r\nL 291.996591 224.64 \r\nL 291.996591 224.64 \r\nL 285.909318 224.64 \r\nz\r\n\" style=\"fill:#800080;opacity:0.4;\"/>\r\n   </g>\r\n   <g id=\"patch_43\">\r\n    <path clip-path=\"url(#pa43e7fb50d)\" d=\"M 291.996591 224.64 \r\nL 298.083864 224.64 \r\nL 298.083864 223.614823 \r\nL 291.996591 223.614823 \r\nz\r\n\" style=\"fill:#800080;opacity:0.4;\"/>\r\n   </g>\r\n   <g id=\"patch_44\">\r\n    <path clip-path=\"url(#pa43e7fb50d)\" d=\"M 298.083864 224.64 \r\nL 304.171136 224.64 \r\nL 304.171136 224.64 \r\nL 298.083864 224.64 \r\nz\r\n\" style=\"fill:#800080;opacity:0.4;\"/>\r\n   </g>\r\n   <g id=\"patch_45\">\r\n    <path clip-path=\"url(#pa43e7fb50d)\" d=\"M 304.171136 224.64 \r\nL 310.258409 224.64 \r\nL 310.258409 224.64 \r\nL 304.171136 224.64 \r\nz\r\n\" style=\"fill:#800080;opacity:0.4;\"/>\r\n   </g>\r\n   <g id=\"patch_46\">\r\n    <path clip-path=\"url(#pa43e7fb50d)\" d=\"M 310.258409 224.64 \r\nL 316.345682 224.64 \r\nL 316.345682 224.64 \r\nL 310.258409 224.64 \r\nz\r\n\" style=\"fill:#800080;opacity:0.4;\"/>\r\n   </g>\r\n   <g id=\"patch_47\">\r\n    <path clip-path=\"url(#pa43e7fb50d)\" d=\"M 316.345682 224.64 \r\nL 322.432955 224.64 \r\nL 322.432955 224.64 \r\nL 316.345682 224.64 \r\nz\r\n\" style=\"fill:#800080;opacity:0.4;\"/>\r\n   </g>\r\n   <g id=\"patch_48\">\r\n    <path clip-path=\"url(#pa43e7fb50d)\" d=\"M 322.432955 224.64 \r\nL 328.520227 224.64 \r\nL 328.520227 223.614823 \r\nL 322.432955 223.614823 \r\nz\r\n\" style=\"fill:#800080;opacity:0.4;\"/>\r\n   </g>\r\n   <g id=\"patch_49\">\r\n    <path clip-path=\"url(#pa43e7fb50d)\" d=\"M 328.520227 224.64 \r\nL 334.6075 224.64 \r\nL 334.6075 224.64 \r\nL 328.520227 224.64 \r\nz\r\n\" style=\"fill:#800080;opacity:0.4;\"/>\r\n   </g>\r\n   <g id=\"patch_50\">\r\n    <path clip-path=\"url(#pa43e7fb50d)\" d=\"M 334.6075 224.64 \r\nL 340.694773 224.64 \r\nL 340.694773 224.64 \r\nL 334.6075 224.64 \r\nz\r\n\" style=\"fill:#800080;opacity:0.4;\"/>\r\n   </g>\r\n   <g id=\"patch_51\">\r\n    <path clip-path=\"url(#pa43e7fb50d)\" d=\"M 340.694773 224.64 \r\nL 346.782045 224.64 \r\nL 346.782045 224.64 \r\nL 340.694773 224.64 \r\nz\r\n\" style=\"fill:#800080;opacity:0.4;\"/>\r\n   </g>\r\n   <g id=\"patch_52\">\r\n    <path clip-path=\"url(#pa43e7fb50d)\" d=\"M 346.782045 224.64 \r\nL 352.869318 224.64 \r\nL 352.869318 223.614823 \r\nL 346.782045 223.614823 \r\nz\r\n\" style=\"fill:#800080;opacity:0.4;\"/>\r\n   </g>\r\n   <g id=\"matplotlib.axis_1\">\r\n    <g id=\"xtick_1\">\r\n     <g id=\"line2d_1\">\r\n      <defs>\r\n       <path d=\"M 0 0 \r\nL 0 3.5 \r\n\" id=\"m38da89d963\" style=\"stroke:#000000;stroke-width:0.8;\"/>\r\n      </defs>\r\n      <g>\r\n       <use style=\"stroke:#000000;stroke-width:0.8;\" x=\"48.505682\" xlink:href=\"#m38da89d963\" y=\"224.64\"/>\r\n      </g>\r\n     </g>\r\n     <g id=\"text_1\">\r\n      <!-- 0 -->\r\n      <defs>\r\n       <path d=\"M 31.78125 66.40625 \r\nQ 24.171875 66.40625 20.328125 58.90625 \r\nQ 16.5 51.421875 16.5 36.375 \r\nQ 16.5 21.390625 20.328125 13.890625 \r\nQ 24.171875 6.390625 31.78125 6.390625 \r\nQ 39.453125 6.390625 43.28125 13.890625 \r\nQ 47.125 21.390625 47.125 36.375 \r\nQ 47.125 51.421875 43.28125 58.90625 \r\nQ 39.453125 66.40625 31.78125 66.40625 \r\nz\r\nM 31.78125 74.21875 \r\nQ 44.046875 74.21875 50.515625 64.515625 \r\nQ 56.984375 54.828125 56.984375 36.375 \r\nQ 56.984375 17.96875 50.515625 8.265625 \r\nQ 44.046875 -1.421875 31.78125 -1.421875 \r\nQ 19.53125 -1.421875 13.0625 8.265625 \r\nQ 6.59375 17.96875 6.59375 36.375 \r\nQ 6.59375 54.828125 13.0625 64.515625 \r\nQ 19.53125 74.21875 31.78125 74.21875 \r\nz\r\n\" id=\"DejaVuSans-48\"/>\r\n      </defs>\r\n      <g transform=\"translate(45.324432 239.238437)scale(0.1 -0.1)\">\r\n       <use xlink:href=\"#DejaVuSans-48\"/>\r\n      </g>\r\n     </g>\r\n    </g>\r\n    <g id=\"xtick_2\">\r\n     <g id=\"line2d_2\">\r\n      <g>\r\n       <use style=\"stroke:#000000;stroke-width:0.8;\" x=\"93.596591\" xlink:href=\"#m38da89d963\" y=\"224.64\"/>\r\n      </g>\r\n     </g>\r\n     <g id=\"text_2\">\r\n      <!-- 200 -->\r\n      <defs>\r\n       <path d=\"M 19.1875 8.296875 \r\nL 53.609375 8.296875 \r\nL 53.609375 0 \r\nL 7.328125 0 \r\nL 7.328125 8.296875 \r\nQ 12.9375 14.109375 22.625 23.890625 \r\nQ 32.328125 33.6875 34.8125 36.53125 \r\nQ 39.546875 41.84375 41.421875 45.53125 \r\nQ 43.3125 49.21875 43.3125 52.78125 \r\nQ 43.3125 58.59375 39.234375 62.25 \r\nQ 35.15625 65.921875 28.609375 65.921875 \r\nQ 23.96875 65.921875 18.8125 64.3125 \r\nQ 13.671875 62.703125 7.8125 59.421875 \r\nL 7.8125 69.390625 \r\nQ 13.765625 71.78125 18.9375 73 \r\nQ 24.125 74.21875 28.421875 74.21875 \r\nQ 39.75 74.21875 46.484375 68.546875 \r\nQ 53.21875 62.890625 53.21875 53.421875 \r\nQ 53.21875 48.921875 51.53125 44.890625 \r\nQ 49.859375 40.875 45.40625 35.40625 \r\nQ 44.1875 33.984375 37.640625 27.21875 \r\nQ 31.109375 20.453125 19.1875 8.296875 \r\nz\r\n\" id=\"DejaVuSans-50\"/>\r\n      </defs>\r\n      <g transform=\"translate(84.052841 239.238437)scale(0.1 -0.1)\">\r\n       <use xlink:href=\"#DejaVuSans-50\"/>\r\n       <use x=\"63.623047\" xlink:href=\"#DejaVuSans-48\"/>\r\n       <use x=\"127.246094\" xlink:href=\"#DejaVuSans-48\"/>\r\n      </g>\r\n     </g>\r\n    </g>\r\n    <g id=\"xtick_3\">\r\n     <g id=\"line2d_3\">\r\n      <g>\r\n       <use style=\"stroke:#000000;stroke-width:0.8;\" x=\"138.6875\" xlink:href=\"#m38da89d963\" y=\"224.64\"/>\r\n      </g>\r\n     </g>\r\n     <g id=\"text_3\">\r\n      <!-- 400 -->\r\n      <defs>\r\n       <path d=\"M 37.796875 64.3125 \r\nL 12.890625 25.390625 \r\nL 37.796875 25.390625 \r\nz\r\nM 35.203125 72.90625 \r\nL 47.609375 72.90625 \r\nL 47.609375 25.390625 \r\nL 58.015625 25.390625 \r\nL 58.015625 17.1875 \r\nL 47.609375 17.1875 \r\nL 47.609375 0 \r\nL 37.796875 0 \r\nL 37.796875 17.1875 \r\nL 4.890625 17.1875 \r\nL 4.890625 26.703125 \r\nz\r\n\" id=\"DejaVuSans-52\"/>\r\n      </defs>\r\n      <g transform=\"translate(129.14375 239.238437)scale(0.1 -0.1)\">\r\n       <use xlink:href=\"#DejaVuSans-52\"/>\r\n       <use x=\"63.623047\" xlink:href=\"#DejaVuSans-48\"/>\r\n       <use x=\"127.246094\" xlink:href=\"#DejaVuSans-48\"/>\r\n      </g>\r\n     </g>\r\n    </g>\r\n    <g id=\"xtick_4\">\r\n     <g id=\"line2d_4\">\r\n      <g>\r\n       <use style=\"stroke:#000000;stroke-width:0.8;\" x=\"183.778409\" xlink:href=\"#m38da89d963\" y=\"224.64\"/>\r\n      </g>\r\n     </g>\r\n     <g id=\"text_4\">\r\n      <!-- 600 -->\r\n      <defs>\r\n       <path d=\"M 33.015625 40.375 \r\nQ 26.375 40.375 22.484375 35.828125 \r\nQ 18.609375 31.296875 18.609375 23.390625 \r\nQ 18.609375 15.53125 22.484375 10.953125 \r\nQ 26.375 6.390625 33.015625 6.390625 \r\nQ 39.65625 6.390625 43.53125 10.953125 \r\nQ 47.40625 15.53125 47.40625 23.390625 \r\nQ 47.40625 31.296875 43.53125 35.828125 \r\nQ 39.65625 40.375 33.015625 40.375 \r\nz\r\nM 52.59375 71.296875 \r\nL 52.59375 62.3125 \r\nQ 48.875 64.0625 45.09375 64.984375 \r\nQ 41.3125 65.921875 37.59375 65.921875 \r\nQ 27.828125 65.921875 22.671875 59.328125 \r\nQ 17.53125 52.734375 16.796875 39.40625 \r\nQ 19.671875 43.65625 24.015625 45.921875 \r\nQ 28.375 48.1875 33.59375 48.1875 \r\nQ 44.578125 48.1875 50.953125 41.515625 \r\nQ 57.328125 34.859375 57.328125 23.390625 \r\nQ 57.328125 12.15625 50.6875 5.359375 \r\nQ 44.046875 -1.421875 33.015625 -1.421875 \r\nQ 20.359375 -1.421875 13.671875 8.265625 \r\nQ 6.984375 17.96875 6.984375 36.375 \r\nQ 6.984375 53.65625 15.1875 63.9375 \r\nQ 23.390625 74.21875 37.203125 74.21875 \r\nQ 40.921875 74.21875 44.703125 73.484375 \r\nQ 48.484375 72.75 52.59375 71.296875 \r\nz\r\n\" id=\"DejaVuSans-54\"/>\r\n      </defs>\r\n      <g transform=\"translate(174.234659 239.238437)scale(0.1 -0.1)\">\r\n       <use xlink:href=\"#DejaVuSans-54\"/>\r\n       <use x=\"63.623047\" xlink:href=\"#DejaVuSans-48\"/>\r\n       <use x=\"127.246094\" xlink:href=\"#DejaVuSans-48\"/>\r\n      </g>\r\n     </g>\r\n    </g>\r\n    <g id=\"xtick_5\">\r\n     <g id=\"line2d_5\">\r\n      <g>\r\n       <use style=\"stroke:#000000;stroke-width:0.8;\" x=\"228.869318\" xlink:href=\"#m38da89d963\" y=\"224.64\"/>\r\n      </g>\r\n     </g>\r\n     <g id=\"text_5\">\r\n      <!-- 800 -->\r\n      <defs>\r\n       <path d=\"M 31.78125 34.625 \r\nQ 24.75 34.625 20.71875 30.859375 \r\nQ 16.703125 27.09375 16.703125 20.515625 \r\nQ 16.703125 13.921875 20.71875 10.15625 \r\nQ 24.75 6.390625 31.78125 6.390625 \r\nQ 38.8125 6.390625 42.859375 10.171875 \r\nQ 46.921875 13.96875 46.921875 20.515625 \r\nQ 46.921875 27.09375 42.890625 30.859375 \r\nQ 38.875 34.625 31.78125 34.625 \r\nz\r\nM 21.921875 38.8125 \r\nQ 15.578125 40.375 12.03125 44.71875 \r\nQ 8.5 49.078125 8.5 55.328125 \r\nQ 8.5 64.0625 14.71875 69.140625 \r\nQ 20.953125 74.21875 31.78125 74.21875 \r\nQ 42.671875 74.21875 48.875 69.140625 \r\nQ 55.078125 64.0625 55.078125 55.328125 \r\nQ 55.078125 49.078125 51.53125 44.71875 \r\nQ 48 40.375 41.703125 38.8125 \r\nQ 48.828125 37.15625 52.796875 32.3125 \r\nQ 56.78125 27.484375 56.78125 20.515625 \r\nQ 56.78125 9.90625 50.3125 4.234375 \r\nQ 43.84375 -1.421875 31.78125 -1.421875 \r\nQ 19.734375 -1.421875 13.25 4.234375 \r\nQ 6.78125 9.90625 6.78125 20.515625 \r\nQ 6.78125 27.484375 10.78125 32.3125 \r\nQ 14.796875 37.15625 21.921875 38.8125 \r\nz\r\nM 18.3125 54.390625 \r\nQ 18.3125 48.734375 21.84375 45.5625 \r\nQ 25.390625 42.390625 31.78125 42.390625 \r\nQ 38.140625 42.390625 41.71875 45.5625 \r\nQ 45.3125 48.734375 45.3125 54.390625 \r\nQ 45.3125 60.0625 41.71875 63.234375 \r\nQ 38.140625 66.40625 31.78125 66.40625 \r\nQ 25.390625 66.40625 21.84375 63.234375 \r\nQ 18.3125 60.0625 18.3125 54.390625 \r\nz\r\n\" id=\"DejaVuSans-56\"/>\r\n      </defs>\r\n      <g transform=\"translate(219.325568 239.238437)scale(0.1 -0.1)\">\r\n       <use xlink:href=\"#DejaVuSans-56\"/>\r\n       <use x=\"63.623047\" xlink:href=\"#DejaVuSans-48\"/>\r\n       <use x=\"127.246094\" xlink:href=\"#DejaVuSans-48\"/>\r\n      </g>\r\n     </g>\r\n    </g>\r\n    <g id=\"xtick_6\">\r\n     <g id=\"line2d_6\">\r\n      <g>\r\n       <use style=\"stroke:#000000;stroke-width:0.8;\" x=\"273.960227\" xlink:href=\"#m38da89d963\" y=\"224.64\"/>\r\n      </g>\r\n     </g>\r\n     <g id=\"text_6\">\r\n      <!-- 1000 -->\r\n      <defs>\r\n       <path d=\"M 12.40625 8.296875 \r\nL 28.515625 8.296875 \r\nL 28.515625 63.921875 \r\nL 10.984375 60.40625 \r\nL 10.984375 69.390625 \r\nL 28.421875 72.90625 \r\nL 38.28125 72.90625 \r\nL 38.28125 8.296875 \r\nL 54.390625 8.296875 \r\nL 54.390625 0 \r\nL 12.40625 0 \r\nz\r\n\" id=\"DejaVuSans-49\"/>\r\n      </defs>\r\n      <g transform=\"translate(261.235227 239.238437)scale(0.1 -0.1)\">\r\n       <use xlink:href=\"#DejaVuSans-49\"/>\r\n       <use x=\"63.623047\" xlink:href=\"#DejaVuSans-48\"/>\r\n       <use x=\"127.246094\" xlink:href=\"#DejaVuSans-48\"/>\r\n       <use x=\"190.869141\" xlink:href=\"#DejaVuSans-48\"/>\r\n      </g>\r\n     </g>\r\n    </g>\r\n    <g id=\"xtick_7\">\r\n     <g id=\"line2d_7\">\r\n      <g>\r\n       <use style=\"stroke:#000000;stroke-width:0.8;\" x=\"319.051136\" xlink:href=\"#m38da89d963\" y=\"224.64\"/>\r\n      </g>\r\n     </g>\r\n     <g id=\"text_7\">\r\n      <!-- 1200 -->\r\n      <g transform=\"translate(306.326136 239.238437)scale(0.1 -0.1)\">\r\n       <use xlink:href=\"#DejaVuSans-49\"/>\r\n       <use x=\"63.623047\" xlink:href=\"#DejaVuSans-50\"/>\r\n       <use x=\"127.246094\" xlink:href=\"#DejaVuSans-48\"/>\r\n       <use x=\"190.869141\" xlink:href=\"#DejaVuSans-48\"/>\r\n      </g>\r\n     </g>\r\n    </g>\r\n    <g id=\"xtick_8\">\r\n     <g id=\"line2d_8\">\r\n      <g>\r\n       <use style=\"stroke:#000000;stroke-width:0.8;\" x=\"364.142045\" xlink:href=\"#m38da89d963\" y=\"224.64\"/>\r\n      </g>\r\n     </g>\r\n     <g id=\"text_8\">\r\n      <!-- 1400 -->\r\n      <g transform=\"translate(351.417045 239.238437)scale(0.1 -0.1)\">\r\n       <use xlink:href=\"#DejaVuSans-49\"/>\r\n       <use x=\"63.623047\" xlink:href=\"#DejaVuSans-52\"/>\r\n       <use x=\"127.246094\" xlink:href=\"#DejaVuSans-48\"/>\r\n       <use x=\"190.869141\" xlink:href=\"#DejaVuSans-48\"/>\r\n      </g>\r\n     </g>\r\n    </g>\r\n    <g id=\"text_9\">\r\n     <!-- amount_spent -->\r\n     <defs>\r\n      <path d=\"M 34.28125 27.484375 \r\nQ 23.390625 27.484375 19.1875 25 \r\nQ 14.984375 22.515625 14.984375 16.5 \r\nQ 14.984375 11.71875 18.140625 8.90625 \r\nQ 21.296875 6.109375 26.703125 6.109375 \r\nQ 34.1875 6.109375 38.703125 11.40625 \r\nQ 43.21875 16.703125 43.21875 25.484375 \r\nL 43.21875 27.484375 \r\nz\r\nM 52.203125 31.203125 \r\nL 52.203125 0 \r\nL 43.21875 0 \r\nL 43.21875 8.296875 \r\nQ 40.140625 3.328125 35.546875 0.953125 \r\nQ 30.953125 -1.421875 24.3125 -1.421875 \r\nQ 15.921875 -1.421875 10.953125 3.296875 \r\nQ 6 8.015625 6 15.921875 \r\nQ 6 25.140625 12.171875 29.828125 \r\nQ 18.359375 34.515625 30.609375 34.515625 \r\nL 43.21875 34.515625 \r\nL 43.21875 35.40625 \r\nQ 43.21875 41.609375 39.140625 45 \r\nQ 35.0625 48.390625 27.6875 48.390625 \r\nQ 23 48.390625 18.546875 47.265625 \r\nQ 14.109375 46.140625 10.015625 43.890625 \r\nL 10.015625 52.203125 \r\nQ 14.9375 54.109375 19.578125 55.046875 \r\nQ 24.21875 56 28.609375 56 \r\nQ 40.484375 56 46.34375 49.84375 \r\nQ 52.203125 43.703125 52.203125 31.203125 \r\nz\r\n\" id=\"DejaVuSans-97\"/>\r\n      <path d=\"M 52 44.1875 \r\nQ 55.375 50.25 60.0625 53.125 \r\nQ 64.75 56 71.09375 56 \r\nQ 79.640625 56 84.28125 50.015625 \r\nQ 88.921875 44.046875 88.921875 33.015625 \r\nL 88.921875 0 \r\nL 79.890625 0 \r\nL 79.890625 32.71875 \r\nQ 79.890625 40.578125 77.09375 44.375 \r\nQ 74.3125 48.1875 68.609375 48.1875 \r\nQ 61.625 48.1875 57.5625 43.546875 \r\nQ 53.515625 38.921875 53.515625 30.90625 \r\nL 53.515625 0 \r\nL 44.484375 0 \r\nL 44.484375 32.71875 \r\nQ 44.484375 40.625 41.703125 44.40625 \r\nQ 38.921875 48.1875 33.109375 48.1875 \r\nQ 26.21875 48.1875 22.15625 43.53125 \r\nQ 18.109375 38.875 18.109375 30.90625 \r\nL 18.109375 0 \r\nL 9.078125 0 \r\nL 9.078125 54.6875 \r\nL 18.109375 54.6875 \r\nL 18.109375 46.1875 \r\nQ 21.1875 51.21875 25.484375 53.609375 \r\nQ 29.78125 56 35.6875 56 \r\nQ 41.65625 56 45.828125 52.96875 \r\nQ 50 49.953125 52 44.1875 \r\nz\r\n\" id=\"DejaVuSans-109\"/>\r\n      <path d=\"M 30.609375 48.390625 \r\nQ 23.390625 48.390625 19.1875 42.75 \r\nQ 14.984375 37.109375 14.984375 27.296875 \r\nQ 14.984375 17.484375 19.15625 11.84375 \r\nQ 23.34375 6.203125 30.609375 6.203125 \r\nQ 37.796875 6.203125 41.984375 11.859375 \r\nQ 46.1875 17.53125 46.1875 27.296875 \r\nQ 46.1875 37.015625 41.984375 42.703125 \r\nQ 37.796875 48.390625 30.609375 48.390625 \r\nz\r\nM 30.609375 56 \r\nQ 42.328125 56 49.015625 48.375 \r\nQ 55.71875 40.765625 55.71875 27.296875 \r\nQ 55.71875 13.875 49.015625 6.21875 \r\nQ 42.328125 -1.421875 30.609375 -1.421875 \r\nQ 18.84375 -1.421875 12.171875 6.21875 \r\nQ 5.515625 13.875 5.515625 27.296875 \r\nQ 5.515625 40.765625 12.171875 48.375 \r\nQ 18.84375 56 30.609375 56 \r\nz\r\n\" id=\"DejaVuSans-111\"/>\r\n      <path d=\"M 8.5 21.578125 \r\nL 8.5 54.6875 \r\nL 17.484375 54.6875 \r\nL 17.484375 21.921875 \r\nQ 17.484375 14.15625 20.5 10.265625 \r\nQ 23.53125 6.390625 29.59375 6.390625 \r\nQ 36.859375 6.390625 41.078125 11.03125 \r\nQ 45.3125 15.671875 45.3125 23.6875 \r\nL 45.3125 54.6875 \r\nL 54.296875 54.6875 \r\nL 54.296875 0 \r\nL 45.3125 0 \r\nL 45.3125 8.40625 \r\nQ 42.046875 3.421875 37.71875 1 \r\nQ 33.40625 -1.421875 27.6875 -1.421875 \r\nQ 18.265625 -1.421875 13.375 4.4375 \r\nQ 8.5 10.296875 8.5 21.578125 \r\nz\r\nM 31.109375 56 \r\nz\r\n\" id=\"DejaVuSans-117\"/>\r\n      <path d=\"M 54.890625 33.015625 \r\nL 54.890625 0 \r\nL 45.90625 0 \r\nL 45.90625 32.71875 \r\nQ 45.90625 40.484375 42.875 44.328125 \r\nQ 39.84375 48.1875 33.796875 48.1875 \r\nQ 26.515625 48.1875 22.3125 43.546875 \r\nQ 18.109375 38.921875 18.109375 30.90625 \r\nL 18.109375 0 \r\nL 9.078125 0 \r\nL 9.078125 54.6875 \r\nL 18.109375 54.6875 \r\nL 18.109375 46.1875 \r\nQ 21.34375 51.125 25.703125 53.5625 \r\nQ 30.078125 56 35.796875 56 \r\nQ 45.21875 56 50.046875 50.171875 \r\nQ 54.890625 44.34375 54.890625 33.015625 \r\nz\r\n\" id=\"DejaVuSans-110\"/>\r\n      <path d=\"M 18.3125 70.21875 \r\nL 18.3125 54.6875 \r\nL 36.8125 54.6875 \r\nL 36.8125 47.703125 \r\nL 18.3125 47.703125 \r\nL 18.3125 18.015625 \r\nQ 18.3125 11.328125 20.140625 9.421875 \r\nQ 21.96875 7.515625 27.59375 7.515625 \r\nL 36.8125 7.515625 \r\nL 36.8125 0 \r\nL 27.59375 0 \r\nQ 17.1875 0 13.234375 3.875 \r\nQ 9.28125 7.765625 9.28125 18.015625 \r\nL 9.28125 47.703125 \r\nL 2.6875 47.703125 \r\nL 2.6875 54.6875 \r\nL 9.28125 54.6875 \r\nL 9.28125 70.21875 \r\nz\r\n\" id=\"DejaVuSans-116\"/>\r\n      <path d=\"M 50.984375 -16.609375 \r\nL 50.984375 -23.578125 \r\nL -0.984375 -23.578125 \r\nL -0.984375 -16.609375 \r\nz\r\n\" id=\"DejaVuSans-95\"/>\r\n      <path d=\"M 44.28125 53.078125 \r\nL 44.28125 44.578125 \r\nQ 40.484375 46.53125 36.375 47.5 \r\nQ 32.28125 48.484375 27.875 48.484375 \r\nQ 21.1875 48.484375 17.84375 46.4375 \r\nQ 14.5 44.390625 14.5 40.28125 \r\nQ 14.5 37.15625 16.890625 35.375 \r\nQ 19.28125 33.59375 26.515625 31.984375 \r\nL 29.59375 31.296875 \r\nQ 39.15625 29.25 43.1875 25.515625 \r\nQ 47.21875 21.78125 47.21875 15.09375 \r\nQ 47.21875 7.46875 41.1875 3.015625 \r\nQ 35.15625 -1.421875 24.609375 -1.421875 \r\nQ 20.21875 -1.421875 15.453125 -0.5625 \r\nQ 10.6875 0.296875 5.421875 2 \r\nL 5.421875 11.28125 \r\nQ 10.40625 8.6875 15.234375 7.390625 \r\nQ 20.0625 6.109375 24.8125 6.109375 \r\nQ 31.15625 6.109375 34.5625 8.28125 \r\nQ 37.984375 10.453125 37.984375 14.40625 \r\nQ 37.984375 18.0625 35.515625 20.015625 \r\nQ 33.0625 21.96875 24.703125 23.78125 \r\nL 21.578125 24.515625 \r\nQ 13.234375 26.265625 9.515625 29.90625 \r\nQ 5.8125 33.546875 5.8125 39.890625 \r\nQ 5.8125 47.609375 11.28125 51.796875 \r\nQ 16.75 56 26.8125 56 \r\nQ 31.78125 56 36.171875 55.265625 \r\nQ 40.578125 54.546875 44.28125 53.078125 \r\nz\r\n\" id=\"DejaVuSans-115\"/>\r\n      <path d=\"M 18.109375 8.203125 \r\nL 18.109375 -20.796875 \r\nL 9.078125 -20.796875 \r\nL 9.078125 54.6875 \r\nL 18.109375 54.6875 \r\nL 18.109375 46.390625 \r\nQ 20.953125 51.265625 25.265625 53.625 \r\nQ 29.59375 56 35.59375 56 \r\nQ 45.5625 56 51.78125 48.09375 \r\nQ 58.015625 40.1875 58.015625 27.296875 \r\nQ 58.015625 14.40625 51.78125 6.484375 \r\nQ 45.5625 -1.421875 35.59375 -1.421875 \r\nQ 29.59375 -1.421875 25.265625 0.953125 \r\nQ 20.953125 3.328125 18.109375 8.203125 \r\nz\r\nM 48.6875 27.296875 \r\nQ 48.6875 37.203125 44.609375 42.84375 \r\nQ 40.53125 48.484375 33.40625 48.484375 \r\nQ 26.265625 48.484375 22.1875 42.84375 \r\nQ 18.109375 37.203125 18.109375 27.296875 \r\nQ 18.109375 17.390625 22.1875 11.75 \r\nQ 26.265625 6.109375 33.40625 6.109375 \r\nQ 40.53125 6.109375 44.609375 11.75 \r\nQ 48.6875 17.390625 48.6875 27.296875 \r\nz\r\n\" id=\"DejaVuSans-112\"/>\r\n      <path d=\"M 56.203125 29.59375 \r\nL 56.203125 25.203125 \r\nL 14.890625 25.203125 \r\nQ 15.484375 15.921875 20.484375 11.0625 \r\nQ 25.484375 6.203125 34.421875 6.203125 \r\nQ 39.59375 6.203125 44.453125 7.46875 \r\nQ 49.3125 8.734375 54.109375 11.28125 \r\nL 54.109375 2.78125 \r\nQ 49.265625 0.734375 44.1875 -0.34375 \r\nQ 39.109375 -1.421875 33.890625 -1.421875 \r\nQ 20.796875 -1.421875 13.15625 6.1875 \r\nQ 5.515625 13.8125 5.515625 26.8125 \r\nQ 5.515625 40.234375 12.765625 48.109375 \r\nQ 20.015625 56 32.328125 56 \r\nQ 43.359375 56 49.78125 48.890625 \r\nQ 56.203125 41.796875 56.203125 29.59375 \r\nz\r\nM 47.21875 32.234375 \r\nQ 47.125 39.59375 43.09375 43.984375 \r\nQ 39.0625 48.390625 32.421875 48.390625 \r\nQ 24.90625 48.390625 20.390625 44.140625 \r\nQ 15.875 39.890625 15.1875 32.171875 \r\nz\r\n\" id=\"DejaVuSans-101\"/>\r\n     </defs>\r\n     <g transform=\"translate(164.911719 252.638437)scale(0.1 -0.1)\">\r\n      <use xlink:href=\"#DejaVuSans-97\"/>\r\n      <use x=\"61.279297\" xlink:href=\"#DejaVuSans-109\"/>\r\n      <use x=\"158.691406\" xlink:href=\"#DejaVuSans-111\"/>\r\n      <use x=\"219.873047\" xlink:href=\"#DejaVuSans-117\"/>\r\n      <use x=\"283.251953\" xlink:href=\"#DejaVuSans-110\"/>\r\n      <use x=\"346.630859\" xlink:href=\"#DejaVuSans-116\"/>\r\n      <use x=\"385.839844\" xlink:href=\"#DejaVuSans-95\"/>\r\n      <use x=\"435.839844\" xlink:href=\"#DejaVuSans-115\"/>\r\n      <use x=\"487.939453\" xlink:href=\"#DejaVuSans-112\"/>\r\n      <use x=\"551.416016\" xlink:href=\"#DejaVuSans-101\"/>\r\n      <use x=\"612.939453\" xlink:href=\"#DejaVuSans-110\"/>\r\n      <use x=\"676.318359\" xlink:href=\"#DejaVuSans-116\"/>\r\n     </g>\r\n    </g>\r\n   </g>\r\n   <g id=\"matplotlib.axis_2\">\r\n    <g id=\"ytick_1\">\r\n     <g id=\"line2d_9\">\r\n      <defs>\r\n       <path d=\"M 0 0 \r\nL -3.5 0 \r\n\" id=\"m78397774b8\" style=\"stroke:#000000;stroke-width:0.8;\"/>\r\n      </defs>\r\n      <g>\r\n       <use style=\"stroke:#000000;stroke-width:0.8;\" x=\"33.2875\" xlink:href=\"#m78397774b8\" y=\"224.64\"/>\r\n      </g>\r\n     </g>\r\n     <g id=\"text_10\">\r\n      <!-- 0 -->\r\n      <g transform=\"translate(19.925 228.439219)scale(0.1 -0.1)\">\r\n       <use xlink:href=\"#DejaVuSans-48\"/>\r\n      </g>\r\n     </g>\r\n    </g>\r\n    <g id=\"ytick_2\">\r\n     <g id=\"line2d_10\">\r\n      <g>\r\n       <use style=\"stroke:#000000;stroke-width:0.8;\" x=\"33.2875\" xlink:href=\"#m78397774b8\" y=\"199.01058\"/>\r\n      </g>\r\n     </g>\r\n     <g id=\"text_11\">\r\n      <!-- 25 -->\r\n      <defs>\r\n       <path d=\"M 10.796875 72.90625 \r\nL 49.515625 72.90625 \r\nL 49.515625 64.59375 \r\nL 19.828125 64.59375 \r\nL 19.828125 46.734375 \r\nQ 21.96875 47.46875 24.109375 47.828125 \r\nQ 26.265625 48.1875 28.421875 48.1875 \r\nQ 40.625 48.1875 47.75 41.5 \r\nQ 54.890625 34.8125 54.890625 23.390625 \r\nQ 54.890625 11.625 47.5625 5.09375 \r\nQ 40.234375 -1.421875 26.90625 -1.421875 \r\nQ 22.3125 -1.421875 17.546875 -0.640625 \r\nQ 12.796875 0.140625 7.71875 1.703125 \r\nL 7.71875 11.625 \r\nQ 12.109375 9.234375 16.796875 8.0625 \r\nQ 21.484375 6.890625 26.703125 6.890625 \r\nQ 35.15625 6.890625 40.078125 11.328125 \r\nQ 45.015625 15.765625 45.015625 23.390625 \r\nQ 45.015625 31 40.078125 35.4375 \r\nQ 35.15625 39.890625 26.703125 39.890625 \r\nQ 22.75 39.890625 18.8125 39.015625 \r\nQ 14.890625 38.140625 10.796875 36.28125 \r\nz\r\n\" id=\"DejaVuSans-53\"/>\r\n      </defs>\r\n      <g transform=\"translate(13.5625 202.809799)scale(0.1 -0.1)\">\r\n       <use xlink:href=\"#DejaVuSans-50\"/>\r\n       <use x=\"63.623047\" xlink:href=\"#DejaVuSans-53\"/>\r\n      </g>\r\n     </g>\r\n    </g>\r\n    <g id=\"ytick_3\">\r\n     <g id=\"line2d_11\">\r\n      <g>\r\n       <use style=\"stroke:#000000;stroke-width:0.8;\" x=\"33.2875\" xlink:href=\"#m78397774b8\" y=\"173.38116\"/>\r\n      </g>\r\n     </g>\r\n     <g id=\"text_12\">\r\n      <!-- 50 -->\r\n      <g transform=\"translate(13.5625 177.180379)scale(0.1 -0.1)\">\r\n       <use xlink:href=\"#DejaVuSans-53\"/>\r\n       <use x=\"63.623047\" xlink:href=\"#DejaVuSans-48\"/>\r\n      </g>\r\n     </g>\r\n    </g>\r\n    <g id=\"ytick_4\">\r\n     <g id=\"line2d_12\">\r\n      <g>\r\n       <use style=\"stroke:#000000;stroke-width:0.8;\" x=\"33.2875\" xlink:href=\"#m78397774b8\" y=\"147.75174\"/>\r\n      </g>\r\n     </g>\r\n     <g id=\"text_13\">\r\n      <!-- 75 -->\r\n      <defs>\r\n       <path d=\"M 8.203125 72.90625 \r\nL 55.078125 72.90625 \r\nL 55.078125 68.703125 \r\nL 28.609375 0 \r\nL 18.3125 0 \r\nL 43.21875 64.59375 \r\nL 8.203125 64.59375 \r\nz\r\n\" id=\"DejaVuSans-55\"/>\r\n      </defs>\r\n      <g transform=\"translate(13.5625 151.550958)scale(0.1 -0.1)\">\r\n       <use xlink:href=\"#DejaVuSans-55\"/>\r\n       <use x=\"63.623047\" xlink:href=\"#DejaVuSans-53\"/>\r\n      </g>\r\n     </g>\r\n    </g>\r\n    <g id=\"ytick_5\">\r\n     <g id=\"line2d_13\">\r\n      <g>\r\n       <use style=\"stroke:#000000;stroke-width:0.8;\" x=\"33.2875\" xlink:href=\"#m78397774b8\" y=\"122.12232\"/>\r\n      </g>\r\n     </g>\r\n     <g id=\"text_14\">\r\n      <!-- 100 -->\r\n      <g transform=\"translate(7.2 125.921538)scale(0.1 -0.1)\">\r\n       <use xlink:href=\"#DejaVuSans-49\"/>\r\n       <use x=\"63.623047\" xlink:href=\"#DejaVuSans-48\"/>\r\n       <use x=\"127.246094\" xlink:href=\"#DejaVuSans-48\"/>\r\n      </g>\r\n     </g>\r\n    </g>\r\n    <g id=\"ytick_6\">\r\n     <g id=\"line2d_14\">\r\n      <g>\r\n       <use style=\"stroke:#000000;stroke-width:0.8;\" x=\"33.2875\" xlink:href=\"#m78397774b8\" y=\"96.4929\"/>\r\n      </g>\r\n     </g>\r\n     <g id=\"text_15\">\r\n      <!-- 125 -->\r\n      <g transform=\"translate(7.2 100.292118)scale(0.1 -0.1)\">\r\n       <use xlink:href=\"#DejaVuSans-49\"/>\r\n       <use x=\"63.623047\" xlink:href=\"#DejaVuSans-50\"/>\r\n       <use x=\"127.246094\" xlink:href=\"#DejaVuSans-53\"/>\r\n      </g>\r\n     </g>\r\n    </g>\r\n    <g id=\"ytick_7\">\r\n     <g id=\"line2d_15\">\r\n      <g>\r\n       <use style=\"stroke:#000000;stroke-width:0.8;\" x=\"33.2875\" xlink:href=\"#m78397774b8\" y=\"70.863479\"/>\r\n      </g>\r\n     </g>\r\n     <g id=\"text_16\">\r\n      <!-- 150 -->\r\n      <g transform=\"translate(7.2 74.662698)scale(0.1 -0.1)\">\r\n       <use xlink:href=\"#DejaVuSans-49\"/>\r\n       <use x=\"63.623047\" xlink:href=\"#DejaVuSans-53\"/>\r\n       <use x=\"127.246094\" xlink:href=\"#DejaVuSans-48\"/>\r\n      </g>\r\n     </g>\r\n    </g>\r\n    <g id=\"ytick_8\">\r\n     <g id=\"line2d_16\">\r\n      <g>\r\n       <use style=\"stroke:#000000;stroke-width:0.8;\" x=\"33.2875\" xlink:href=\"#m78397774b8\" y=\"45.234059\"/>\r\n      </g>\r\n     </g>\r\n     <g id=\"text_17\">\r\n      <!-- 175 -->\r\n      <g transform=\"translate(7.2 49.033278)scale(0.1 -0.1)\">\r\n       <use xlink:href=\"#DejaVuSans-49\"/>\r\n       <use x=\"63.623047\" xlink:href=\"#DejaVuSans-55\"/>\r\n       <use x=\"127.246094\" xlink:href=\"#DejaVuSans-53\"/>\r\n      </g>\r\n     </g>\r\n    </g>\r\n    <g id=\"ytick_9\">\r\n     <g id=\"line2d_17\">\r\n      <g>\r\n       <use style=\"stroke:#000000;stroke-width:0.8;\" x=\"33.2875\" xlink:href=\"#m78397774b8\" y=\"19.604639\"/>\r\n      </g>\r\n     </g>\r\n     <g id=\"text_18\">\r\n      <!-- 200 -->\r\n      <g transform=\"translate(7.2 23.403858)scale(0.1 -0.1)\">\r\n       <use xlink:href=\"#DejaVuSans-50\"/>\r\n       <use x=\"63.623047\" xlink:href=\"#DejaVuSans-48\"/>\r\n       <use x=\"127.246094\" xlink:href=\"#DejaVuSans-48\"/>\r\n      </g>\r\n     </g>\r\n    </g>\r\n   </g>\r\n   <g id=\"patch_53\">\r\n    <path d=\"M 33.2875 224.64 \r\nL 33.2875 7.2 \r\n\" style=\"fill:none;stroke:#000000;stroke-linecap:square;stroke-linejoin:miter;stroke-width:0.8;\"/>\r\n   </g>\r\n   <g id=\"patch_54\">\r\n    <path d=\"M 368.0875 224.64 \r\nL 368.0875 7.2 \r\n\" style=\"fill:none;stroke:#000000;stroke-linecap:square;stroke-linejoin:miter;stroke-width:0.8;\"/>\r\n   </g>\r\n   <g id=\"patch_55\">\r\n    <path d=\"M 33.2875 224.64 \r\nL 368.0875 224.64 \r\n\" style=\"fill:none;stroke:#000000;stroke-linecap:square;stroke-linejoin:miter;stroke-width:0.8;\"/>\r\n   </g>\r\n   <g id=\"patch_56\">\r\n    <path d=\"M 33.2875 7.2 \r\nL 368.0875 7.2 \r\n\" style=\"fill:none;stroke:#000000;stroke-linecap:square;stroke-linejoin:miter;stroke-width:0.8;\"/>\r\n   </g>\r\n  </g>\r\n </g>\r\n <defs>\r\n  <clipPath id=\"pa43e7fb50d\">\r\n   <rect height=\"217.44\" width=\"334.8\" x=\"33.2875\" y=\"7.2\"/>\r\n  </clipPath>\r\n </defs>\r\n</svg>\r\n",
      "image/png": "[encoded data removed]"
     },
     "metadata": {
      "needs_background": "light"
     }
    }
   ],
   "source": [
    "ax = sns.distplot(Spain['amount_spent'],color='purple',kde=False) #kde = False remove the line"
   ]
  },
  {
   "cell_type": "markdown",
   "metadata": {},
   "source": [
    "#### Select all orders made in the month of August."
   ]
  },
  {
   "cell_type": "code",
   "execution_count": 266,
   "metadata": {},
   "outputs": [
    {
     "output_type": "execute_result",
     "data": {
      "text/plain": [
       "        Unnamed: 0  InvoiceNo StockCode  year  month  day  hour  \\\n",
       "199475      285421     561904     22075  2011      8    1     8   \n",
       "199476      285422     561904    85049E  2011      8    1     8   \n",
       "199477      285423     561905     21385  2011      8    1     9   \n",
       "199478      285424     561905    84970L  2011      8    1     9   \n",
       "199479      285425     561905    84970S  2011      8    1     9   \n",
       "\n",
       "                              Description  Quantity          InvoiceDate  \\\n",
       "199475       6 ribbons elegant christmas         96  2011-08-01 08:30:00   \n",
       "199476          scandinavian reds ribbons       156  2011-08-01 08:30:00   \n",
       "199477    ivory hanging decoration  heart        24  2011-08-01 09:31:00   \n",
       "199478   single heart zinc t-light holder        12  2011-08-01 09:31:00   \n",
       "199479  hanging heart zinc t-light holder        12  2011-08-01 09:31:00   \n",
       "\n",
       "        UnitPrice  CustomerID         Country  amount_spent  \n",
       "199475       1.45       17941  United Kingdom        139.20  \n",
       "199476       1.06       17941  United Kingdom        165.36  \n",
       "199477       0.85       14947  United Kingdom         20.40  \n",
       "199478       0.95       14947  United Kingdom         11.40  \n",
       "199479       0.85       14947  United Kingdom         10.20  "
      ],
      "text/html": "<div>\n<style scoped>\n    .dataframe tbody tr th:only-of-type {\n        vertical-align: middle;\n    }\n\n    .dataframe tbody tr th {\n        vertical-align: top;\n    }\n\n    .dataframe thead th {\n        text-align: right;\n    }\n</style>\n<table border=\"1\" class=\"dataframe\">\n  <thead>\n    <tr style=\"text-align: right;\">\n      <th></th>\n      <th>Unnamed: 0</th>\n      <th>InvoiceNo</th>\n      <th>StockCode</th>\n      <th>year</th>\n      <th>month</th>\n      <th>day</th>\n      <th>hour</th>\n      <th>Description</th>\n      <th>Quantity</th>\n      <th>InvoiceDate</th>\n      <th>UnitPrice</th>\n      <th>CustomerID</th>\n      <th>Country</th>\n      <th>amount_spent</th>\n    </tr>\n  </thead>\n  <tbody>\n    <tr>\n      <th>199475</th>\n      <td>285421</td>\n      <td>561904</td>\n      <td>22075</td>\n      <td>2011</td>\n      <td>8</td>\n      <td>1</td>\n      <td>8</td>\n      <td>6 ribbons elegant christmas</td>\n      <td>96</td>\n      <td>2011-08-01 08:30:00</td>\n      <td>1.45</td>\n      <td>17941</td>\n      <td>United Kingdom</td>\n      <td>139.20</td>\n    </tr>\n    <tr>\n      <th>199476</th>\n      <td>285422</td>\n      <td>561904</td>\n      <td>85049E</td>\n      <td>2011</td>\n      <td>8</td>\n      <td>1</td>\n      <td>8</td>\n      <td>scandinavian reds ribbons</td>\n      <td>156</td>\n      <td>2011-08-01 08:30:00</td>\n      <td>1.06</td>\n      <td>17941</td>\n      <td>United Kingdom</td>\n      <td>165.36</td>\n    </tr>\n    <tr>\n      <th>199477</th>\n      <td>285423</td>\n      <td>561905</td>\n      <td>21385</td>\n      <td>2011</td>\n      <td>8</td>\n      <td>1</td>\n      <td>9</td>\n      <td>ivory hanging decoration  heart</td>\n      <td>24</td>\n      <td>2011-08-01 09:31:00</td>\n      <td>0.85</td>\n      <td>14947</td>\n      <td>United Kingdom</td>\n      <td>20.40</td>\n    </tr>\n    <tr>\n      <th>199478</th>\n      <td>285424</td>\n      <td>561905</td>\n      <td>84970L</td>\n      <td>2011</td>\n      <td>8</td>\n      <td>1</td>\n      <td>9</td>\n      <td>single heart zinc t-light holder</td>\n      <td>12</td>\n      <td>2011-08-01 09:31:00</td>\n      <td>0.95</td>\n      <td>14947</td>\n      <td>United Kingdom</td>\n      <td>11.40</td>\n    </tr>\n    <tr>\n      <th>199479</th>\n      <td>285425</td>\n      <td>561905</td>\n      <td>84970S</td>\n      <td>2011</td>\n      <td>8</td>\n      <td>1</td>\n      <td>9</td>\n      <td>hanging heart zinc t-light holder</td>\n      <td>12</td>\n      <td>2011-08-01 09:31:00</td>\n      <td>0.85</td>\n      <td>14947</td>\n      <td>United Kingdom</td>\n      <td>10.20</td>\n    </tr>\n  </tbody>\n</table>\n</div>"
     },
     "metadata": {},
     "execution_count": 266
    }
   ],
   "source": [
    "# your code here\n",
    "August = orders[orders['month']==8]\n",
    "August.head()"
   ]
  },
  {
   "cell_type": "markdown",
   "metadata": {},
   "source": [
    "#### Find the number of orders made by each country in the month of August.\n",
    "**Hint**: Use value_counts()."
   ]
  },
  {
   "cell_type": "code",
   "execution_count": 268,
   "metadata": {},
   "outputs": [
    {
     "output_type": "execute_result",
     "data": {
      "text/plain": [
       "                 InvoiceNo\n",
       "Country                   \n",
       "Australia              107\n",
       "Austria                 88\n",
       "Belgium                194\n",
       "Canada                   5\n",
       "Channel Islands        140\n",
       "Denmark                 16\n",
       "EIRE                   593\n",
       "Finland                 61\n",
       "France                 569\n",
       "Germany                795\n",
       "Iceland                 22\n",
       "Israel                 171\n",
       "Italy                   95\n",
       "Malta                   55\n",
       "Netherlands            280\n",
       "Norway                  77\n",
       "Poland                  17\n",
       "Portugal                41\n",
       "Spain                  252\n",
       "Sweden                  40\n",
       "Switzerland            267\n",
       "United Kingdom       23105\n",
       "Unspecified             23"
      ],
      "text/html": "<div>\n<style scoped>\n    .dataframe tbody tr th:only-of-type {\n        vertical-align: middle;\n    }\n\n    .dataframe tbody tr th {\n        vertical-align: top;\n    }\n\n    .dataframe thead th {\n        text-align: right;\n    }\n</style>\n<table border=\"1\" class=\"dataframe\">\n  <thead>\n    <tr style=\"text-align: right;\">\n      <th></th>\n      <th>InvoiceNo</th>\n    </tr>\n    <tr>\n      <th>Country</th>\n      <th></th>\n    </tr>\n  </thead>\n  <tbody>\n    <tr>\n      <th>Australia</th>\n      <td>107</td>\n    </tr>\n    <tr>\n      <th>Austria</th>\n      <td>88</td>\n    </tr>\n    <tr>\n      <th>Belgium</th>\n      <td>194</td>\n    </tr>\n    <tr>\n      <th>Canada</th>\n      <td>5</td>\n    </tr>\n    <tr>\n      <th>Channel Islands</th>\n      <td>140</td>\n    </tr>\n    <tr>\n      <th>Denmark</th>\n      <td>16</td>\n    </tr>\n    <tr>\n      <th>EIRE</th>\n      <td>593</td>\n    </tr>\n    <tr>\n      <th>Finland</th>\n      <td>61</td>\n    </tr>\n    <tr>\n      <th>France</th>\n      <td>569</td>\n    </tr>\n    <tr>\n      <th>Germany</th>\n      <td>795</td>\n    </tr>\n    <tr>\n      <th>Iceland</th>\n      <td>22</td>\n    </tr>\n    <tr>\n      <th>Israel</th>\n      <td>171</td>\n    </tr>\n    <tr>\n      <th>Italy</th>\n      <td>95</td>\n    </tr>\n    <tr>\n      <th>Malta</th>\n      <td>55</td>\n    </tr>\n    <tr>\n      <th>Netherlands</th>\n      <td>280</td>\n    </tr>\n    <tr>\n      <th>Norway</th>\n      <td>77</td>\n    </tr>\n    <tr>\n      <th>Poland</th>\n      <td>17</td>\n    </tr>\n    <tr>\n      <th>Portugal</th>\n      <td>41</td>\n    </tr>\n    <tr>\n      <th>Spain</th>\n      <td>252</td>\n    </tr>\n    <tr>\n      <th>Sweden</th>\n      <td>40</td>\n    </tr>\n    <tr>\n      <th>Switzerland</th>\n      <td>267</td>\n    </tr>\n    <tr>\n      <th>United Kingdom</th>\n      <td>23105</td>\n    </tr>\n    <tr>\n      <th>Unspecified</th>\n      <td>23</td>\n    </tr>\n  </tbody>\n</table>\n</div>"
     },
     "metadata": {},
     "execution_count": 268
    }
   ],
   "source": [
    "August.groupby('Country').agg({'InvoiceNo':'count'})"
   ]
  },
  {
   "cell_type": "markdown",
   "metadata": {},
   "source": [
    "#### What's the  average amount of money spent by country?"
   ]
  },
  {
   "cell_type": "code",
   "execution_count": 271,
   "metadata": {},
   "outputs": [
    {
     "output_type": "execute_result",
     "data": {
      "text/plain": [
       "                      amount_spent\n",
       "Country                           \n",
       "Australia               116.895620\n",
       "Austria                  25.624824\n",
       "Bahrain                  32.258824\n",
       "Belgium                  20.283772\n",
       "Brazil                   35.737500\n",
       "Canada                   24.280662\n",
       "Channel Islands          27.340160\n",
       "Cyprus                   22.134169\n",
       "Czech Republic           33.069600\n",
       "Denmark                  49.882474\n",
       "EIRE                     36.687745\n",
       "European Community       21.670833\n",
       "Finland                  32.913985\n",
       "France                   25.056827\n",
       "Germany                  25.311562\n",
       "Greece                   32.831172\n",
       "Iceland                  23.681319\n",
       "Israel                   29.119718\n",
       "Italy                    23.064960\n",
       "Japan                   116.561900\n",
       "Lebanon                  37.641778\n",
       "Lithuania                47.458857\n",
       "Malta                    24.335625\n",
       "Netherlands             120.798282\n",
       "Norway                   33.736418\n",
       "Poland                   22.226212\n",
       "Portugal                 22.872702\n",
       "RSA                      17.281207\n",
       "Saudi Arabia             16.213333\n",
       "Singapore                95.852658\n",
       "Spain                    24.779521\n",
       "Sweden                   85.096075\n",
       "Switzerland              30.642752\n",
       "USA                      20.002179\n",
       "United Arab Emirates     27.974706\n",
       "United Kingdom           20.625073\n",
       "Unspecified              10.930615"
      ],
      "text/html": "<div>\n<style scoped>\n    .dataframe tbody tr th:only-of-type {\n        vertical-align: middle;\n    }\n\n    .dataframe tbody tr th {\n        vertical-align: top;\n    }\n\n    .dataframe thead th {\n        text-align: right;\n    }\n</style>\n<table border=\"1\" class=\"dataframe\">\n  <thead>\n    <tr style=\"text-align: right;\">\n      <th></th>\n      <th>amount_spent</th>\n    </tr>\n    <tr>\n      <th>Country</th>\n      <th></th>\n    </tr>\n  </thead>\n  <tbody>\n    <tr>\n      <th>Australia</th>\n      <td>116.895620</td>\n    </tr>\n    <tr>\n      <th>Austria</th>\n      <td>25.624824</td>\n    </tr>\n    <tr>\n      <th>Bahrain</th>\n      <td>32.258824</td>\n    </tr>\n    <tr>\n      <th>Belgium</th>\n      <td>20.283772</td>\n    </tr>\n    <tr>\n      <th>Brazil</th>\n      <td>35.737500</td>\n    </tr>\n    <tr>\n      <th>Canada</th>\n      <td>24.280662</td>\n    </tr>\n    <tr>\n      <th>Channel Islands</th>\n      <td>27.340160</td>\n    </tr>\n    <tr>\n      <th>Cyprus</th>\n      <td>22.134169</td>\n    </tr>\n    <tr>\n      <th>Czech Republic</th>\n      <td>33.069600</td>\n    </tr>\n    <tr>\n      <th>Denmark</th>\n      <td>49.882474</td>\n    </tr>\n    <tr>\n      <th>EIRE</th>\n      <td>36.687745</td>\n    </tr>\n    <tr>\n      <th>European Community</th>\n      <td>21.670833</td>\n    </tr>\n    <tr>\n      <th>Finland</th>\n      <td>32.913985</td>\n    </tr>\n    <tr>\n      <th>France</th>\n      <td>25.056827</td>\n    </tr>\n    <tr>\n      <th>Germany</th>\n      <td>25.311562</td>\n    </tr>\n    <tr>\n      <th>Greece</th>\n      <td>32.831172</td>\n    </tr>\n    <tr>\n      <th>Iceland</th>\n      <td>23.681319</td>\n    </tr>\n    <tr>\n      <th>Israel</th>\n      <td>29.119718</td>\n    </tr>\n    <tr>\n      <th>Italy</th>\n      <td>23.064960</td>\n    </tr>\n    <tr>\n      <th>Japan</th>\n      <td>116.561900</td>\n    </tr>\n    <tr>\n      <th>Lebanon</th>\n      <td>37.641778</td>\n    </tr>\n    <tr>\n      <th>Lithuania</th>\n      <td>47.458857</td>\n    </tr>\n    <tr>\n      <th>Malta</th>\n      <td>24.335625</td>\n    </tr>\n    <tr>\n      <th>Netherlands</th>\n      <td>120.798282</td>\n    </tr>\n    <tr>\n      <th>Norway</th>\n      <td>33.736418</td>\n    </tr>\n    <tr>\n      <th>Poland</th>\n      <td>22.226212</td>\n    </tr>\n    <tr>\n      <th>Portugal</th>\n      <td>22.872702</td>\n    </tr>\n    <tr>\n      <th>RSA</th>\n      <td>17.281207</td>\n    </tr>\n    <tr>\n      <th>Saudi Arabia</th>\n      <td>16.213333</td>\n    </tr>\n    <tr>\n      <th>Singapore</th>\n      <td>95.852658</td>\n    </tr>\n    <tr>\n      <th>Spain</th>\n      <td>24.779521</td>\n    </tr>\n    <tr>\n      <th>Sweden</th>\n      <td>85.096075</td>\n    </tr>\n    <tr>\n      <th>Switzerland</th>\n      <td>30.642752</td>\n    </tr>\n    <tr>\n      <th>USA</th>\n      <td>20.002179</td>\n    </tr>\n    <tr>\n      <th>United Arab Emirates</th>\n      <td>27.974706</td>\n    </tr>\n    <tr>\n      <th>United Kingdom</th>\n      <td>20.625073</td>\n    </tr>\n    <tr>\n      <th>Unspecified</th>\n      <td>10.930615</td>\n    </tr>\n  </tbody>\n</table>\n</div>"
     },
     "metadata": {},
     "execution_count": 271
    }
   ],
   "source": [
    "# your code here\n",
    "August.groupby('Country').agg({'amount_spent':'mean'}) #only August\n",
    "orders.groupby('Country').agg({'amount_spent':'mean'}) #all months"
   ]
  },
  {
   "cell_type": "markdown",
   "metadata": {},
   "source": [
    "#### What's the most expensive item?"
   ]
  },
  {
   "cell_type": "code",
   "execution_count": 287,
   "metadata": {},
   "outputs": [
    {
     "output_type": "execute_result",
     "data": {
      "text/plain": [
       "        Unnamed: 0  InvoiceNo StockCode  year  month  day  hour Description  \\\n",
       "118352      173382     551697      POST  2011      5    2    13     postage   \n",
       "\n",
       "        Quantity          InvoiceDate  UnitPrice  CustomerID         Country  \\\n",
       "118352         1  2011-05-03 13:46:00    8142.75       16029  United Kingdom   \n",
       "\n",
       "        amount_spent  \n",
       "118352       8142.75  "
      ],
      "text/html": "<div>\n<style scoped>\n    .dataframe tbody tr th:only-of-type {\n        vertical-align: middle;\n    }\n\n    .dataframe tbody tr th {\n        vertical-align: top;\n    }\n\n    .dataframe thead th {\n        text-align: right;\n    }\n</style>\n<table border=\"1\" class=\"dataframe\">\n  <thead>\n    <tr style=\"text-align: right;\">\n      <th></th>\n      <th>Unnamed: 0</th>\n      <th>InvoiceNo</th>\n      <th>StockCode</th>\n      <th>year</th>\n      <th>month</th>\n      <th>day</th>\n      <th>hour</th>\n      <th>Description</th>\n      <th>Quantity</th>\n      <th>InvoiceDate</th>\n      <th>UnitPrice</th>\n      <th>CustomerID</th>\n      <th>Country</th>\n      <th>amount_spent</th>\n    </tr>\n  </thead>\n  <tbody>\n    <tr>\n      <th>118352</th>\n      <td>173382</td>\n      <td>551697</td>\n      <td>POST</td>\n      <td>2011</td>\n      <td>5</td>\n      <td>2</td>\n      <td>13</td>\n      <td>postage</td>\n      <td>1</td>\n      <td>2011-05-03 13:46:00</td>\n      <td>8142.75</td>\n      <td>16029</td>\n      <td>United Kingdom</td>\n      <td>8142.75</td>\n    </tr>\n  </tbody>\n</table>\n</div>"
     },
     "metadata": {},
     "execution_count": 287
    }
   ],
   "source": [
    "# your code here\n",
    "pos =orders['UnitPrice'].max()\n",
    "orders[orders['UnitPrice']==pos]"
   ]
  },
  {
   "cell_type": "markdown",
   "metadata": {},
   "source": [
    "#### What is the average amount spent per year?"
   ]
  },
  {
   "cell_type": "code",
   "execution_count": 274,
   "metadata": {},
   "outputs": [
    {
     "output_type": "execute_result",
     "data": {
      "text/plain": [
       "      amount_spent\n",
       "year              \n",
       "2010     21.892733\n",
       "2011     22.430074"
      ],
      "text/html": "<div>\n<style scoped>\n    .dataframe tbody tr th:only-of-type {\n        vertical-align: middle;\n    }\n\n    .dataframe tbody tr th {\n        vertical-align: top;\n    }\n\n    .dataframe thead th {\n        text-align: right;\n    }\n</style>\n<table border=\"1\" class=\"dataframe\">\n  <thead>\n    <tr style=\"text-align: right;\">\n      <th></th>\n      <th>amount_spent</th>\n    </tr>\n    <tr>\n      <th>year</th>\n      <th></th>\n    </tr>\n  </thead>\n  <tbody>\n    <tr>\n      <th>2010</th>\n      <td>21.892733</td>\n    </tr>\n    <tr>\n      <th>2011</th>\n      <td>22.430074</td>\n    </tr>\n  </tbody>\n</table>\n</div>"
     },
     "metadata": {},
     "execution_count": 274
    }
   ],
   "source": [
    "# your code here\n",
    "orders.groupby('year').agg({'amount_spent':'mean'})"
   ]
  },
  {
   "cell_type": "code",
   "execution_count": null,
   "metadata": {},
   "outputs": [],
   "source": []
  }
 ],
 "metadata": {
  "anaconda-cloud": {},
  "kernelspec": {
   "display_name": "Python 3",
   "language": "python",
   "name": "python3"
  },
  "language_info": {
   "codemirror_mode": {
    "name": "ipython",
    "version": 3
   },
   "file_extension": ".py",
   "mimetype": "text/x-python",
   "name": "python",
   "nbconvert_exporter": "python",
   "pygments_lexer": "ipython3",
   "version": "3.8.3-final"
  }
 },
 "nbformat": 4,
 "nbformat_minor": 1
}